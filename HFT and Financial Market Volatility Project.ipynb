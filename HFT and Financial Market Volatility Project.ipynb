{
 "cells": [
  {
   "cell_type": "markdown",
   "metadata": {},
   "source": [
    "# High-frequency Trading and Financial Market Volatility in the Modern Age"
   ]
  },
  {
   "cell_type": "markdown",
   "metadata": {},
   "source": [
    "#### This project was created in the Spring of 2020 and was submitted as the final project for the Economics program's capstone course - Empirical Analysis at California State University - East Bay. The objective of this analysis was to determine if the proliferation of high-frequency trading has worked to destablize financial markets by increasing the volatility of intra-day prices of financial market indicies across two time periods. The first time period begins in the 1980s when the modern era of digital financial information began, the subsequent period began in the 2000s when computing power innovations fascilitated the rise of algorithmic and high-volume trading. I used a Bayesian Structural Time Series package from Google named CausalImpact to conduct this analysis which accepts a time series object, in this case the historical average price changes of the indicies, as well as an synthetic variable object to set our counter-factual and confidence interval, for this I used the percentage change in GDP over the same time periods of the respective indicies. The completed analysis can be found at:\n",
    "https://www.linkedin.com/pulse/high-frequency-trading-financial-market-volatility-modern-escalante/"
   ]
  },
  {
   "cell_type": "markdown",
   "metadata": {},
   "source": [
    "We begin by installing the necessary libraries."
   ]
  },
  {
   "cell_type": "code",
   "execution_count": 16,
   "metadata": {},
   "outputs": [],
   "source": [
    "library(quantmod)\n",
    "library(xts)\n",
    "library(readr)\n",
    "library(CausalImpact)\n",
    "#library(timeSeries)\n",
    "#library(TTR)\n",
    "#library(data.table)\n",
    "library(ggplot2)\n",
    "theme_set(theme_gray())\n",
    "options(warn=0)"
   ]
  },
  {
   "cell_type": "markdown",
   "metadata": {},
   "source": [
    "Using the Quantmod package allows us to pull data directly from various sources, including the Federal Reserve Economic Data repository (aka FRED). The percentage change in GDP is available to download directly, however the time periods that we need extend beyond what we can retrieve directly from FRED so we will download the raw data and calculate the percentage change ourselves."
   ]
  },
  {
   "cell_type": "code",
   "execution_count": 17,
   "metadata": {},
   "outputs": [],
   "source": [
    "gdp <- getSymbols(\"GDP\", src=\"FRED\", auto.assign=FALSE)\n",
    "options(\"getSymbols.warning4.0\"=FALSE)"
   ]
  },
  {
   "cell_type": "markdown",
   "metadata": {},
   "source": [
    "The fortify() function converts the extendible time series (xts) object to a data frame, allowing us to conduct mathematical operations with the appropriate columns. Notice that the GDP information is reported quarterly, we will need monthly information but we can begin the process with the data as is."
   ]
  },
  {
   "cell_type": "code",
   "execution_count": 18,
   "metadata": {},
   "outputs": [],
   "source": [
    "gdp.df <- fortify(gdp)"
   ]
  },
  {
   "cell_type": "code",
   "execution_count": 19,
   "metadata": {},
   "outputs": [
    {
     "data": {
      "text/html": [
       "<table>\n",
       "<caption>A data.frame: 6 × 2</caption>\n",
       "<thead>\n",
       "\t<tr><th></th><th scope=col>Index</th><th scope=col>GDP</th></tr>\n",
       "\t<tr><th></th><th scope=col>&lt;date&gt;</th><th scope=col>&lt;dbl&gt;</th></tr>\n",
       "</thead>\n",
       "<tbody>\n",
       "\t<tr><th scope=row>1</th><td>1947-01-01</td><td>243.164</td></tr>\n",
       "\t<tr><th scope=row>2</th><td>1947-04-01</td><td>245.968</td></tr>\n",
       "\t<tr><th scope=row>3</th><td>1947-07-01</td><td>249.585</td></tr>\n",
       "\t<tr><th scope=row>4</th><td>1947-10-01</td><td>259.745</td></tr>\n",
       "\t<tr><th scope=row>5</th><td>1948-01-01</td><td>265.742</td></tr>\n",
       "\t<tr><th scope=row>6</th><td>1948-04-01</td><td>272.567</td></tr>\n",
       "</tbody>\n",
       "</table>\n"
      ],
      "text/latex": [
       "A data.frame: 6 × 2\n",
       "\\begin{tabular}{r|ll}\n",
       "  & Index & GDP\\\\\n",
       "  & <date> & <dbl>\\\\\n",
       "\\hline\n",
       "\t1 & 1947-01-01 & 243.164\\\\\n",
       "\t2 & 1947-04-01 & 245.968\\\\\n",
       "\t3 & 1947-07-01 & 249.585\\\\\n",
       "\t4 & 1947-10-01 & 259.745\\\\\n",
       "\t5 & 1948-01-01 & 265.742\\\\\n",
       "\t6 & 1948-04-01 & 272.567\\\\\n",
       "\\end{tabular}\n"
      ],
      "text/markdown": [
       "\n",
       "A data.frame: 6 × 2\n",
       "\n",
       "| <!--/--> | Index &lt;date&gt; | GDP &lt;dbl&gt; |\n",
       "|---|---|---|\n",
       "| 1 | 1947-01-01 | 243.164 |\n",
       "| 2 | 1947-04-01 | 245.968 |\n",
       "| 3 | 1947-07-01 | 249.585 |\n",
       "| 4 | 1947-10-01 | 259.745 |\n",
       "| 5 | 1948-01-01 | 265.742 |\n",
       "| 6 | 1948-04-01 | 272.567 |\n",
       "\n"
      ],
      "text/plain": [
       "  Index      GDP    \n",
       "1 1947-01-01 243.164\n",
       "2 1947-04-01 245.968\n",
       "3 1947-07-01 249.585\n",
       "4 1947-10-01 259.745\n",
       "5 1948-01-01 265.742\n",
       "6 1948-04-01 272.567"
      ]
     },
     "metadata": {},
     "output_type": "display_data"
    }
   ],
   "source": [
    "head(gdp.df)"
   ]
  },
  {
   "cell_type": "markdown",
   "metadata": {},
   "source": [
    "To begin the percent change calculation we must first create a new column with the previous time period for that row. This will create a NULL value for our first observation in this new column so we will set this value to zero."
   ]
  },
  {
   "cell_type": "code",
   "execution_count": 20,
   "metadata": {},
   "outputs": [],
   "source": [
    "gdp.df$lag_1 <- Lag(gdp.df$GDP, k=1)\n",
    "gdp.df$lag_1[1] <- 0"
   ]
  },
  {
   "cell_type": "markdown",
   "metadata": {},
   "source": [
    "Here we create a numerical vector with the percentage change calculation."
   ]
  },
  {
   "cell_type": "code",
   "execution_count": 21,
   "metadata": {},
   "outputs": [],
   "source": [
    "pct.change <- (gdp.df$GDP - gdp.df$lag_1)/gdp.df$GDP*100"
   ]
  },
  {
   "cell_type": "markdown",
   "metadata": {},
   "source": [
    "Now we can take that vector and convert it back to an xts object using the index from our data frame and the xts() function."
   ]
  },
  {
   "cell_type": "code",
   "execution_count": 22,
   "metadata": {},
   "outputs": [],
   "source": [
    "gdp.pct.ch <- xts(pct.change, gdp.df$Index)"
   ]
  },
  {
   "cell_type": "code",
   "execution_count": 23,
   "metadata": {},
   "outputs": [
    {
     "data": {
      "text/plain": [
       "                Lag.1\n",
       "1947-01-01 100.000000\n",
       "1947-04-01   1.139986\n",
       "1947-07-01   1.449206\n",
       "1947-10-01   3.911529\n",
       "1948-01-01   2.256700\n",
       "1948-04-01   2.503972"
      ]
     },
     "metadata": {},
     "output_type": "display_data"
    }
   ],
   "source": [
    "head(gdp.pct.ch)"
   ]
  },
  {
   "cell_type": "markdown",
   "metadata": {},
   "source": [
    "Now we can plot this quarterly information to visualize the data."
   ]
  },
  {
   "cell_type": "code",
   "execution_count": 24,
   "metadata": {},
   "outputs": [
    {
     "data": {
      "image/png": "[encoded data removed]",
      "text/plain": [
       "plot without title"
      ]
     },
     "metadata": {
      "image/png": {
       "height": 360,
       "width": 720
      },
      "text/plain": {
       "height": 360,
       "width": 720
      }
     },
     "output_type": "display_data"
    }
   ],
   "source": [
    "ggplot(gdp.pct.ch[133:289], aes(x=Index, y=Lag.1)) + theme_gray() + labs(x=\"Decade\", y=\"GDP Pct Change\") + geom_line(colour=\"darkblue\", linetype = \"dashed\")\n",
    "options(repr.plot.width=12, repr.plot.height=6)"
   ]
  },
  {
   "cell_type": "markdown",
   "metadata": {},
   "source": [
    "Now we must convert this quarterly format to a monthly format so that we may column bind this data as our synthetic variable for each index. We begin by creating a 39-year vector with each item resprenting one month."
   ]
  },
  {
   "cell_type": "code",
   "execution_count": 25,
   "metadata": {},
   "outputs": [],
   "source": [
    "gdp.pct.mo <- c(1:468)"
   ]
  },
  {
   "cell_type": "markdown",
   "metadata": {},
   "source": [
    "Here we subset the GDP % change data to the correct 39-year window."
   ]
  },
  {
   "cell_type": "code",
   "execution_count": 29,
   "metadata": {},
   "outputs": [],
   "source": [
    "pct.ch.num <- as.numeric(pct.change[133:289])"
   ]
  },
  {
   "cell_type": "markdown",
   "metadata": {},
   "source": [
    "Now we create a custom function that takes each quarterly observation and appends the value to the new vector repeating the value for the respective 3 month period."
   ]
  },
  {
   "cell_type": "code",
   "execution_count": 30,
   "metadata": {},
   "outputs": [],
   "source": [
    "for (i in 1:156){\n",
    "    for (j in 1:3){\n",
    "        n=i*3-3\n",
    "        gdp.pct.mo[n+j]=pct.ch.num[i]\n",
    "    }\n",
    "}"
   ]
  },
  {
   "cell_type": "markdown",
   "metadata": {},
   "source": [
    "Looking at the first and last 21 observations we see that the quarterly values have been effectively converted to a vector that can be used with monthly data."
   ]
  },
  {
   "cell_type": "code",
   "execution_count": 31,
   "metadata": {},
   "outputs": [
    {
     "data": {
      "text/html": [
       "<style>\n",
       ".list-inline {list-style: none; margin:0; padding: 0}\n",
       ".list-inline>li {display: inline-block}\n",
       ".list-inline>li:not(:last-child)::after {content: \"\\00b7\"; padding: 0 .5ex}\n",
       "</style>\n",
       "<ol class=list-inline><li>2.36425575355165</li><li>2.36425575355165</li><li>2.36425575355165</li><li>0.268468179907275</li><li>0.268468179907275</li><li>0.268468179907275</li><li>2.07006308106858</li><li>2.07006308106858</li><li>2.07006308106858</li><li>4.32328037950706</li><li>4.32328037950706</li><li>4.32328037950706</li><li>4.43789558050911</li><li>4.43789558050911</li><li>4.43789558050911</li><li>1.21187706559175</li><li>1.21187706559175</li><li>1.21187706559175</li><li>3.00793502072772</li><li>3.00793502072772</li><li>3.00793502072772</li></ol>\n"
      ],
      "text/latex": [
       "\\begin{enumerate*}\n",
       "\\item 2.36425575355165\n",
       "\\item 2.36425575355165\n",
       "\\item 2.36425575355165\n",
       "\\item 0.268468179907275\n",
       "\\item 0.268468179907275\n",
       "\\item 0.268468179907275\n",
       "\\item 2.07006308106858\n",
       "\\item 2.07006308106858\n",
       "\\item 2.07006308106858\n",
       "\\item 4.32328037950706\n",
       "\\item 4.32328037950706\n",
       "\\item 4.32328037950706\n",
       "\\item 4.43789558050911\n",
       "\\item 4.43789558050911\n",
       "\\item 4.43789558050911\n",
       "\\item 1.21187706559175\n",
       "\\item 1.21187706559175\n",
       "\\item 1.21187706559175\n",
       "\\item 3.00793502072772\n",
       "\\item 3.00793502072772\n",
       "\\item 3.00793502072772\n",
       "\\end{enumerate*}\n"
      ],
      "text/markdown": [
       "1. 2.36425575355165\n",
       "2. 2.36425575355165\n",
       "3. 2.36425575355165\n",
       "4. 0.268468179907275\n",
       "5. 0.268468179907275\n",
       "6. 0.268468179907275\n",
       "7. 2.07006308106858\n",
       "8. 2.07006308106858\n",
       "9. 2.07006308106858\n",
       "10. 4.32328037950706\n",
       "11. 4.32328037950706\n",
       "12. 4.32328037950706\n",
       "13. 4.43789558050911\n",
       "14. 4.43789558050911\n",
       "15. 4.43789558050911\n",
       "16. 1.21187706559175\n",
       "17. 1.21187706559175\n",
       "18. 1.21187706559175\n",
       "19. 3.00793502072772\n",
       "20. 3.00793502072772\n",
       "21. 3.00793502072772\n",
       "\n",
       "\n"
      ],
      "text/plain": [
       " [1] 2.3642558 2.3642558 2.3642558 0.2684682 0.2684682 0.2684682 2.0700631\n",
       " [8] 2.0700631 2.0700631 4.3232804 4.3232804 4.3232804 4.4378956 4.4378956\n",
       "[15] 4.4378956 1.2118771 1.2118771 1.2118771 3.0079350 3.0079350 3.0079350"
      ]
     },
     "metadata": {},
     "output_type": "display_data"
    }
   ],
   "source": [
    "head(gdp.pct.mo, n=21)"
   ]
  },
  {
   "cell_type": "code",
   "execution_count": 32,
   "metadata": {},
   "outputs": [
    {
     "data": {
      "text/html": [
       "<style>\n",
       ".list-inline {list-style: none; margin:0; padding: 0}\n",
       ".list-inline>li {display: inline-block}\n",
       ".list-inline>li:not(:last-child)::after {content: \"\\00b7\"; padding: 0 .5ex}\n",
       "</style>\n",
       "<ol class=list-inline><li>0.731695662655768</li><li>0.731695662655768</li><li>0.731695662655768</li><li>1.21350107109607</li><li>1.21350107109607</li><li>1.21350107109607</li><li>1.6083639035743</li><li>1.6083639035743</li><li>1.6083639035743</li><li>1.50305685420296</li><li>1.50305685420296</li><li>1.50305685420296</li><li>1.51045220293457</li><li>1.51045220293457</li><li>1.51045220293457</li><li>0.916321352794439</li><li>0.916321352794439</li><li>0.916321352794439</li><li>0.799288258984879</li><li>0.799288258984879</li><li>0.799288258984879</li></ol>\n"
      ],
      "text/latex": [
       "\\begin{enumerate*}\n",
       "\\item 0.731695662655768\n",
       "\\item 0.731695662655768\n",
       "\\item 0.731695662655768\n",
       "\\item 1.21350107109607\n",
       "\\item 1.21350107109607\n",
       "\\item 1.21350107109607\n",
       "\\item 1.6083639035743\n",
       "\\item 1.6083639035743\n",
       "\\item 1.6083639035743\n",
       "\\item 1.50305685420296\n",
       "\\item 1.50305685420296\n",
       "\\item 1.50305685420296\n",
       "\\item 1.51045220293457\n",
       "\\item 1.51045220293457\n",
       "\\item 1.51045220293457\n",
       "\\item 0.916321352794439\n",
       "\\item 0.916321352794439\n",
       "\\item 0.916321352794439\n",
       "\\item 0.799288258984879\n",
       "\\item 0.799288258984879\n",
       "\\item 0.799288258984879\n",
       "\\end{enumerate*}\n"
      ],
      "text/markdown": [
       "1. 0.731695662655768\n",
       "2. 0.731695662655768\n",
       "3. 0.731695662655768\n",
       "4. 1.21350107109607\n",
       "5. 1.21350107109607\n",
       "6. 1.21350107109607\n",
       "7. 1.6083639035743\n",
       "8. 1.6083639035743\n",
       "9. 1.6083639035743\n",
       "10. 1.50305685420296\n",
       "11. 1.50305685420296\n",
       "12. 1.50305685420296\n",
       "13. 1.51045220293457\n",
       "14. 1.51045220293457\n",
       "15. 1.51045220293457\n",
       "16. 0.916321352794439\n",
       "17. 0.916321352794439\n",
       "18. 0.916321352794439\n",
       "19. 0.799288258984879\n",
       "20. 0.799288258984879\n",
       "21. 0.799288258984879\n",
       "\n",
       "\n"
      ],
      "text/plain": [
       " [1] 0.7316957 0.7316957 0.7316957 1.2135011 1.2135011 1.2135011 1.6083639\n",
       " [8] 1.6083639 1.6083639 1.5030569 1.5030569 1.5030569 1.5104522 1.5104522\n",
       "[15] 1.5104522 0.9163214 0.9163214 0.9163214 0.7992883 0.7992883 0.7992883"
      ]
     },
     "metadata": {},
     "output_type": "display_data"
    }
   ],
   "source": [
    "tail(gdp.pct.mo, n=21)"
   ]
  },
  {
   "cell_type": "markdown",
   "metadata": {},
   "source": [
    "### S&P 500 Data"
   ]
  },
  {
   "cell_type": "markdown",
   "metadata": {},
   "source": [
    "For our first variable we will use the Standard and Poor's 500 Index beginning from January 1980 to December 2019. This version of the getSymbols() function allows us to pull data directly from Yahoo Finance and will give us various data points that we will use to create the variable we will use for our analysis."
   ]
  },
  {
   "cell_type": "code",
   "execution_count": 33,
   "metadata": {},
   "outputs": [],
   "source": [
    "sp500 <- getSymbols.yahoo('^GSPC', auto.assign=FALSE, from='1980-01-01',to='2019-12-31')"
   ]
  },
  {
   "cell_type": "code",
   "execution_count": 34,
   "metadata": {},
   "outputs": [],
   "source": [
    "SP.df <- fortify(sp500)"
   ]
  },
  {
   "cell_type": "code",
   "execution_count": 35,
   "metadata": {},
   "outputs": [
    {
     "data": {
      "text/html": [
       "<table>\n",
       "<caption>A data.frame: 6 × 7</caption>\n",
       "<thead>\n",
       "\t<tr><th></th><th scope=col>Index</th><th scope=col>GSPC.Open</th><th scope=col>GSPC.High</th><th scope=col>GSPC.Low</th><th scope=col>GSPC.Close</th><th scope=col>GSPC.Volume</th><th scope=col>GSPC.Adjusted</th></tr>\n",
       "\t<tr><th></th><th scope=col>&lt;date&gt;</th><th scope=col>&lt;dbl&gt;</th><th scope=col>&lt;dbl&gt;</th><th scope=col>&lt;dbl&gt;</th><th scope=col>&lt;dbl&gt;</th><th scope=col>&lt;dbl&gt;</th><th scope=col>&lt;dbl&gt;</th></tr>\n",
       "</thead>\n",
       "<tbody>\n",
       "\t<tr><th scope=row>1</th><td>1980-01-02</td><td>0</td><td>108.43</td><td>105.29</td><td>105.76</td><td>40610000</td><td>105.76</td></tr>\n",
       "\t<tr><th scope=row>2</th><td>1980-01-03</td><td>0</td><td>106.08</td><td>103.26</td><td>105.22</td><td>50480000</td><td>105.22</td></tr>\n",
       "\t<tr><th scope=row>3</th><td>1980-01-04</td><td>0</td><td>107.08</td><td>105.09</td><td>106.52</td><td>39130000</td><td>106.52</td></tr>\n",
       "\t<tr><th scope=row>4</th><td>1980-01-07</td><td>0</td><td>107.80</td><td>105.80</td><td>106.81</td><td>44500000</td><td>106.81</td></tr>\n",
       "\t<tr><th scope=row>5</th><td>1980-01-08</td><td>0</td><td>109.29</td><td>106.29</td><td>108.95</td><td>53390000</td><td>108.95</td></tr>\n",
       "\t<tr><th scope=row>6</th><td>1980-01-09</td><td>0</td><td>111.09</td><td>108.41</td><td>109.05</td><td>65260000</td><td>109.05</td></tr>\n",
       "</tbody>\n",
       "</table>\n"
      ],
      "text/latex": [
       "A data.frame: 6 × 7\n",
       "\\begin{tabular}{r|lllllll}\n",
       "  & Index & GSPC.Open & GSPC.High & GSPC.Low & GSPC.Close & GSPC.Volume & GSPC.Adjusted\\\\\n",
       "  & <date> & <dbl> & <dbl> & <dbl> & <dbl> & <dbl> & <dbl>\\\\\n",
       "\\hline\n",
       "\t1 & 1980-01-02 & 0 & 108.43 & 105.29 & 105.76 & 40610000 & 105.76\\\\\n",
       "\t2 & 1980-01-03 & 0 & 106.08 & 103.26 & 105.22 & 50480000 & 105.22\\\\\n",
       "\t3 & 1980-01-04 & 0 & 107.08 & 105.09 & 106.52 & 39130000 & 106.52\\\\\n",
       "\t4 & 1980-01-07 & 0 & 107.80 & 105.80 & 106.81 & 44500000 & 106.81\\\\\n",
       "\t5 & 1980-01-08 & 0 & 109.29 & 106.29 & 108.95 & 53390000 & 108.95\\\\\n",
       "\t6 & 1980-01-09 & 0 & 111.09 & 108.41 & 109.05 & 65260000 & 109.05\\\\\n",
       "\\end{tabular}\n"
      ],
      "text/markdown": [
       "\n",
       "A data.frame: 6 × 7\n",
       "\n",
       "| <!--/--> | Index &lt;date&gt; | GSPC.Open &lt;dbl&gt; | GSPC.High &lt;dbl&gt; | GSPC.Low &lt;dbl&gt; | GSPC.Close &lt;dbl&gt; | GSPC.Volume &lt;dbl&gt; | GSPC.Adjusted &lt;dbl&gt; |\n",
       "|---|---|---|---|---|---|---|---|\n",
       "| 1 | 1980-01-02 | 0 | 108.43 | 105.29 | 105.76 | 40610000 | 105.76 |\n",
       "| 2 | 1980-01-03 | 0 | 106.08 | 103.26 | 105.22 | 50480000 | 105.22 |\n",
       "| 3 | 1980-01-04 | 0 | 107.08 | 105.09 | 106.52 | 39130000 | 106.52 |\n",
       "| 4 | 1980-01-07 | 0 | 107.80 | 105.80 | 106.81 | 44500000 | 106.81 |\n",
       "| 5 | 1980-01-08 | 0 | 109.29 | 106.29 | 108.95 | 53390000 | 108.95 |\n",
       "| 6 | 1980-01-09 | 0 | 111.09 | 108.41 | 109.05 | 65260000 | 109.05 |\n",
       "\n"
      ],
      "text/plain": [
       "  Index      GSPC.Open GSPC.High GSPC.Low GSPC.Close GSPC.Volume GSPC.Adjusted\n",
       "1 1980-01-02 0         108.43    105.29   105.76     40610000    105.76       \n",
       "2 1980-01-03 0         106.08    103.26   105.22     50480000    105.22       \n",
       "3 1980-01-04 0         107.08    105.09   106.52     39130000    106.52       \n",
       "4 1980-01-07 0         107.80    105.80   106.81     44500000    106.81       \n",
       "5 1980-01-08 0         109.29    106.29   108.95     53390000    108.95       \n",
       "6 1980-01-09 0         111.09    108.41   109.05     65260000    109.05       "
      ]
     },
     "metadata": {},
     "output_type": "display_data"
    }
   ],
   "source": [
    "head(SP.df)"
   ]
  },
  {
   "cell_type": "markdown",
   "metadata": {},
   "source": [
    "For our analysis we will need to calculate the monthly intra-day percent price change average (MIDPPCA), where will take the daily high price and subtract the daily low price then divide the difference by the daily adjusted closing price, then average it on a monthly basis. This should give us an idea of how much the price is moving within each day over the course of a month, if volatility is dramatically increasing we will be able to pick up this trend over time. We will conduct the initial calculation and title it V for volatility."
   ]
  },
  {
   "cell_type": "code",
   "execution_count": 36,
   "metadata": {},
   "outputs": [],
   "source": [
    "SP.df$GSPC.V <- (SP.df$GSPC.High - SP.df$GSPC.Low)/ SP.df$GSPC.Adjusted"
   ]
  },
  {
   "cell_type": "markdown",
   "metadata": {},
   "source": [
    "Now in order to convert the daily info to a monthly-average we must convert the data back to xts format."
   ]
  },
  {
   "cell_type": "code",
   "execution_count": 37,
   "metadata": {},
   "outputs": [],
   "source": [
    "SP.xts <- xts(SP.df$GSPC.V, SP.df$Index)"
   ]
  },
  {
   "cell_type": "code",
   "execution_count": 38,
   "metadata": {},
   "outputs": [],
   "source": [
    "SP.xts <- apply.monthly(SP.xts, mean)"
   ]
  },
  {
   "cell_type": "markdown",
   "metadata": {},
   "source": [
    "Now that we have our MIDPPCA variable we need to create a subset of the date index to use for the different indicies. The S&P 500 analysis has the broadest time period, from Janurary 1980 to December 2018, a total of 468 months."
   ]
  },
  {
   "cell_type": "code",
   "execution_count": 39,
   "metadata": {},
   "outputs": [],
   "source": [
    "SP.df.mo <- fortify(SP.xts[1:468])"
   ]
  },
  {
   "cell_type": "code",
   "execution_count": 40,
   "metadata": {},
   "outputs": [],
   "source": [
    "index<- as.Date(SP.df.mo$Index[1:468])"
   ]
  },
  {
   "cell_type": "markdown",
   "metadata": {},
   "source": [
    "Now we trim the last 12 months off the time series object."
   ]
  },
  {
   "cell_type": "code",
   "execution_count": 41,
   "metadata": {},
   "outputs": [],
   "source": [
    "SP.xts <- SP.xts[1:468]"
   ]
  },
  {
   "cell_type": "markdown",
   "metadata": {},
   "source": [
    "Now we simply rename the variable and append our sythetic variable."
   ]
  },
  {
   "cell_type": "code",
   "execution_count": 42,
   "metadata": {},
   "outputs": [],
   "source": [
    "names(SP.xts)[1] <- \"SP.MIDPPCA\"\n",
    "SP.xts$GDP <- xts(gdp.pct.mo, index)"
   ]
  },
  {
   "cell_type": "code",
   "execution_count": 57,
   "metadata": {},
   "outputs": [
    {
     "data": {
      "text/plain": [
       "           SP.MIDPPCA       GDP\n",
       "1980-01-31 0.02239846 2.3642558\n",
       "1980-02-29 0.02371408 2.3642558\n",
       "1980-03-31 0.02875209 2.3642558\n",
       "1980-04-30 0.02281445 0.2684682\n",
       "1980-05-30 0.01979930 0.2684682\n",
       "1980-06-30 0.01932585 0.2684682"
      ]
     },
     "metadata": {},
     "output_type": "display_data"
    }
   ],
   "source": [
    "head(SP.xts)\n",
    "Sys.setenv(TZ = \"UTC\")"
   ]
  },
  {
   "cell_type": "code",
   "execution_count": 44,
   "metadata": {},
   "outputs": [
    {
     "data": {
      "text/plain": [
       "            SP.MIDPPCA       GDP\n",
       "2018-07-31 0.006636440 0.9163214\n",
       "2018-08-31 0.005622592 0.9163214\n",
       "2018-09-28 0.005605107 0.9163214\n",
       "2018-10-31 0.017035457 0.7992883\n",
       "2018-11-30 0.013574112 0.7992883\n",
       "2018-12-31 0.025289338 0.7992883"
      ]
     },
     "metadata": {},
     "output_type": "display_data"
    }
   ],
   "source": [
    "tail(SP.xts)"
   ]
  },
  {
   "cell_type": "markdown",
   "metadata": {},
   "source": [
    "The final step before running the BSTS algorithm is to define the periods before and after the event that would create the expected change we are analyzing. These variable must have a vector with two items: the beginning date and ending date of the time period in question. These items must be in POSIXct date data type in order to be accepted in the CausalImpact package."
   ]
  },
  {
   "cell_type": "code",
   "execution_count": 45,
   "metadata": {},
   "outputs": [],
   "source": [
    "pre.period.SP <- as.POSIXct(c('1980-01-31','1999-12-31'))\n",
    "post.period.SP <- as.POSIXct(c('2000-01-31', '2018-12-31'))"
   ]
  },
  {
   "cell_type": "markdown",
   "metadata": {},
   "source": [
    "Now we simply plug in our xts object along with the pre and post period date objects and plot the model."
   ]
  },
  {
   "cell_type": "code",
   "execution_count": 46,
   "metadata": {
    "scrolled": true
   },
   "outputs": [
    {
     "data": {
      "image/png": "[encoded data removed]",
      "text/plain": [
       "plot without title"
      ]
     },
     "metadata": {
      "image/png": {
       "height": 360,
       "width": 720
      },
      "text/plain": {
       "height": 360,
       "width": 720
      }
     },
     "output_type": "display_data"
    }
   ],
   "source": [
    "model.SP <- CausalImpact(SP.xts, pre.period.SP, post.period.SP)\n",
    "plot(model.SP) + theme_gray() + labs(X=\"Decade\", y=\"% Change\")\n",
    "options(repr.plot.width=12, repr.plot.height=8)"
   ]
  },
  {
   "cell_type": "markdown",
   "metadata": {},
   "source": [
    "The CausalImpact package produces a detailed summary which includes both the boundaries of the average and cumulative intervals, along with a verbose written analysis."
   ]
  },
  {
   "cell_type": "code",
   "execution_count": 47,
   "metadata": {},
   "outputs": [
    {
     "name": "stdout",
     "output_type": "stream",
     "text": [
      "Posterior inference {CausalImpact}\n",
      "\n",
      "                         Average            Cumulative      \n",
      "Actual                   0.013              3.027           \n",
      "Prediction (s.d.)        0.015 (0.0048)     3.397 (1.0850)  \n",
      "95% CI                   [0.0048, 0.025]    [1.0890, 5.631] \n",
      "                                                            \n",
      "Absolute effect (s.d.)   -0.0016 (0.0048)   -0.3694 (1.0850)\n",
      "95% CI                   [-0.011, 0.0085]   [-2.604, 1.9382]\n",
      "                                                            \n",
      "Relative effect (s.d.)   -11% (32%)         -11% (32%)      \n",
      "95% CI                   [-77%, 57%]        [-77%, 57%]     \n",
      "\n",
      "Posterior tail-area probability p:   0.35006\n",
      "Posterior prob. of a causal effect:  65%\n",
      "\n",
      "For more details, type: summary(impact, \"report\")\n",
      "\n"
     ]
    }
   ],
   "source": [
    "summary(model.SP)"
   ]
  },
  {
   "cell_type": "code",
   "execution_count": 48,
   "metadata": {},
   "outputs": [
    {
     "name": "stdout",
     "output_type": "stream",
     "text": [
      "Analysis report {CausalImpact}\n",
      "\n",
      "\n",
      "During the post-intervention period, the response variable had an average value of approx. 0.013. In the absence of an intervention, we would have expected an average response of 0.015. The 95% interval of this counterfactual prediction is [0.0048, 0.025]. Subtracting this prediction from the observed response yields an estimate of the causal effect the intervention had on the response variable. This effect is -0.0016 with a 95% interval of [-0.011, 0.0085]. For a discussion of the significance of this effect, see below.\n",
      "\n",
      "Summing up the individual data points during the post-intervention period (which can only sometimes be meaningfully interpreted), the response variable had an overall value of 3.03. Had the intervention not taken place, we would have expected a sum of 3.40. The 95% interval of this prediction is [1.09, 5.63].\n",
      "\n",
      "The above results are given in terms of absolute numbers. In relative terms, the response variable showed a decrease of -11%. The 95% interval of this percentage is [-77%, +57%].\n",
      "\n",
      "This means that, although it may look as though the intervention has exerted a negative effect on the response variable when considering the intervention period as a whole, this effect is not statistically significant, and so cannot be meaningfully interpreted. The apparent effect could be the result of random fluctuations that are unrelated to the intervention. This is often the case when the intervention period is very long and includes much of the time when the effect has already worn off. It can also be the case when the intervention period is too short to distinguish the signal from the noise. Finally, failing to find a significant effect can happen when there are not enough control variables or when these variables do not correlate well with the response variable during the learning period.\n",
      "\n",
      "The probability of obtaining this effect by chance is p = 0.35. This means the effect may be spurious and would generally not be considered statistically significant. \n"
     ]
    }
   ],
   "source": [
    "summary(model.SP, \"report\")"
   ]
  },
  {
   "cell_type": "markdown",
   "metadata": {},
   "source": [
    "### Dow Jones Data"
   ]
  },
  {
   "cell_type": "markdown",
   "metadata": {},
   "source": [
    "We will repeat the process with the data from the Dow Jones Industrial Index with a few necessary changes."
   ]
  },
  {
   "cell_type": "code",
   "execution_count": 49,
   "metadata": {},
   "outputs": [],
   "source": [
    "DJI <- getSymbols.yahoo('^DJI', auto.assign=FALSE, from='1980-01-01',to='2018-12-31')"
   ]
  },
  {
   "cell_type": "markdown",
   "metadata": {},
   "source": [
    "Viewing what was downloaded from Yahoo Finance we see that daily data from before 1992 is not included, this means we will have to be mindfull of how we line up our dates moving foreward."
   ]
  },
  {
   "cell_type": "code",
   "execution_count": 50,
   "metadata": {},
   "outputs": [
    {
     "data": {
      "text/html": [
       "<table>\n",
       "<caption>A data.frame: 6 × 7</caption>\n",
       "<thead>\n",
       "\t<tr><th></th><th scope=col>Index</th><th scope=col>DJI.Open</th><th scope=col>DJI.High</th><th scope=col>DJI.Low</th><th scope=col>DJI.Close</th><th scope=col>DJI.Volume</th><th scope=col>DJI.Adjusted</th></tr>\n",
       "\t<tr><th></th><th scope=col>&lt;date&gt;</th><th scope=col>&lt;dbl&gt;</th><th scope=col>&lt;dbl&gt;</th><th scope=col>&lt;dbl&gt;</th><th scope=col>&lt;dbl&gt;</th><th scope=col>&lt;dbl&gt;</th><th scope=col>&lt;dbl&gt;</th></tr>\n",
       "</thead>\n",
       "<tbody>\n",
       "\t<tr><th scope=row>1</th><td>1992-01-02</td><td>3152.1</td><td>3172.63</td><td>3139.31</td><td>3172.4</td><td>23550000</td><td>3172.4</td></tr>\n",
       "\t<tr><th scope=row>2</th><td>1992-01-03</td><td>3172.4</td><td>3210.64</td><td>3165.92</td><td>3201.5</td><td>23620000</td><td>3201.5</td></tr>\n",
       "\t<tr><th scope=row>3</th><td>1992-01-06</td><td>3201.5</td><td>3213.33</td><td>3191.86</td><td>3200.1</td><td>27280000</td><td>3200.1</td></tr>\n",
       "\t<tr><th scope=row>4</th><td>1992-01-07</td><td>3200.1</td><td>3210.20</td><td>3184.48</td><td>3204.8</td><td>25510000</td><td>3204.8</td></tr>\n",
       "\t<tr><th scope=row>5</th><td>1992-01-08</td><td>3204.8</td><td>3229.20</td><td>3185.82</td><td>3203.9</td><td>29040000</td><td>3203.9</td></tr>\n",
       "\t<tr><th scope=row>6</th><td>1992-01-09</td><td>3203.9</td><td>3228.31</td><td>3192.75</td><td>3209.5</td><td>29820000</td><td>3209.5</td></tr>\n",
       "</tbody>\n",
       "</table>\n"
      ],
      "text/latex": [
       "A data.frame: 6 × 7\n",
       "\\begin{tabular}{r|lllllll}\n",
       "  & Index & DJI.Open & DJI.High & DJI.Low & DJI.Close & DJI.Volume & DJI.Adjusted\\\\\n",
       "  & <date> & <dbl> & <dbl> & <dbl> & <dbl> & <dbl> & <dbl>\\\\\n",
       "\\hline\n",
       "\t1 & 1992-01-02 & 3152.1 & 3172.63 & 3139.31 & 3172.4 & 23550000 & 3172.4\\\\\n",
       "\t2 & 1992-01-03 & 3172.4 & 3210.64 & 3165.92 & 3201.5 & 23620000 & 3201.5\\\\\n",
       "\t3 & 1992-01-06 & 3201.5 & 3213.33 & 3191.86 & 3200.1 & 27280000 & 3200.1\\\\\n",
       "\t4 & 1992-01-07 & 3200.1 & 3210.20 & 3184.48 & 3204.8 & 25510000 & 3204.8\\\\\n",
       "\t5 & 1992-01-08 & 3204.8 & 3229.20 & 3185.82 & 3203.9 & 29040000 & 3203.9\\\\\n",
       "\t6 & 1992-01-09 & 3203.9 & 3228.31 & 3192.75 & 3209.5 & 29820000 & 3209.5\\\\\n",
       "\\end{tabular}\n"
      ],
      "text/markdown": [
       "\n",
       "A data.frame: 6 × 7\n",
       "\n",
       "| <!--/--> | Index &lt;date&gt; | DJI.Open &lt;dbl&gt; | DJI.High &lt;dbl&gt; | DJI.Low &lt;dbl&gt; | DJI.Close &lt;dbl&gt; | DJI.Volume &lt;dbl&gt; | DJI.Adjusted &lt;dbl&gt; |\n",
       "|---|---|---|---|---|---|---|---|\n",
       "| 1 | 1992-01-02 | 3152.1 | 3172.63 | 3139.31 | 3172.4 | 23550000 | 3172.4 |\n",
       "| 2 | 1992-01-03 | 3172.4 | 3210.64 | 3165.92 | 3201.5 | 23620000 | 3201.5 |\n",
       "| 3 | 1992-01-06 | 3201.5 | 3213.33 | 3191.86 | 3200.1 | 27280000 | 3200.1 |\n",
       "| 4 | 1992-01-07 | 3200.1 | 3210.20 | 3184.48 | 3204.8 | 25510000 | 3204.8 |\n",
       "| 5 | 1992-01-08 | 3204.8 | 3229.20 | 3185.82 | 3203.9 | 29040000 | 3203.9 |\n",
       "| 6 | 1992-01-09 | 3203.9 | 3228.31 | 3192.75 | 3209.5 | 29820000 | 3209.5 |\n",
       "\n"
      ],
      "text/plain": [
       "  Index      DJI.Open DJI.High DJI.Low DJI.Close DJI.Volume DJI.Adjusted\n",
       "1 1992-01-02 3152.1   3172.63  3139.31 3172.4    23550000   3172.4      \n",
       "2 1992-01-03 3172.4   3210.64  3165.92 3201.5    23620000   3201.5      \n",
       "3 1992-01-06 3201.5   3213.33  3191.86 3200.1    27280000   3200.1      \n",
       "4 1992-01-07 3200.1   3210.20  3184.48 3204.8    25510000   3204.8      \n",
       "5 1992-01-08 3204.8   3229.20  3185.82 3203.9    29040000   3203.9      \n",
       "6 1992-01-09 3203.9   3228.31  3192.75 3209.5    29820000   3209.5      "
      ]
     },
     "metadata": {},
     "output_type": "display_data"
    }
   ],
   "source": [
    "DJI.df <- fortify(DJI)\n",
    "head(DJI.df)"
   ]
  },
  {
   "cell_type": "code",
   "execution_count": 51,
   "metadata": {},
   "outputs": [
    {
     "data": {
      "text/html": [
       "<table>\n",
       "<caption>A data.frame: 6 × 7</caption>\n",
       "<thead>\n",
       "\t<tr><th></th><th scope=col>Index</th><th scope=col>DJI.Open</th><th scope=col>DJI.High</th><th scope=col>DJI.Low</th><th scope=col>DJI.Close</th><th scope=col>DJI.Volume</th><th scope=col>DJI.Adjusted</th></tr>\n",
       "\t<tr><th></th><th scope=col>&lt;date&gt;</th><th scope=col>&lt;dbl&gt;</th><th scope=col>&lt;dbl&gt;</th><th scope=col>&lt;dbl&gt;</th><th scope=col>&lt;dbl&gt;</th><th scope=col>&lt;dbl&gt;</th><th scope=col>&lt;dbl&gt;</th></tr>\n",
       "</thead>\n",
       "<tbody>\n",
       "\t<tr><th scope=row>6795</th><td>2018-12-20</td><td>23224.12</td><td>23282.20</td><td>22644.31</td><td>22859.60</td><td>576700000</td><td>22859.60</td></tr>\n",
       "\t<tr><th scope=row>6796</th><td>2018-12-21</td><td>22871.74</td><td>23254.59</td><td>22396.34</td><td>22445.37</td><td>900510000</td><td>22445.37</td></tr>\n",
       "\t<tr><th scope=row>6797</th><td>2018-12-24</td><td>22317.28</td><td>22339.87</td><td>21792.20</td><td>21792.20</td><td>308420000</td><td>21792.20</td></tr>\n",
       "\t<tr><th scope=row>6798</th><td>2018-12-26</td><td>21857.73</td><td>22878.92</td><td>21712.53</td><td>22878.45</td><td>433080000</td><td>22878.45</td></tr>\n",
       "\t<tr><th scope=row>6799</th><td>2018-12-27</td><td>22629.06</td><td>23138.89</td><td>22267.42</td><td>23138.82</td><td>407940000</td><td>23138.82</td></tr>\n",
       "\t<tr><th scope=row>6800</th><td>2018-12-28</td><td>23213.61</td><td>23381.88</td><td>22981.33</td><td>23062.40</td><td>336510000</td><td>23062.40</td></tr>\n",
       "</tbody>\n",
       "</table>\n"
      ],
      "text/latex": [
       "A data.frame: 6 × 7\n",
       "\\begin{tabular}{r|lllllll}\n",
       "  & Index & DJI.Open & DJI.High & DJI.Low & DJI.Close & DJI.Volume & DJI.Adjusted\\\\\n",
       "  & <date> & <dbl> & <dbl> & <dbl> & <dbl> & <dbl> & <dbl>\\\\\n",
       "\\hline\n",
       "\t6795 & 2018-12-20 & 23224.12 & 23282.20 & 22644.31 & 22859.60 & 576700000 & 22859.60\\\\\n",
       "\t6796 & 2018-12-21 & 22871.74 & 23254.59 & 22396.34 & 22445.37 & 900510000 & 22445.37\\\\\n",
       "\t6797 & 2018-12-24 & 22317.28 & 22339.87 & 21792.20 & 21792.20 & 308420000 & 21792.20\\\\\n",
       "\t6798 & 2018-12-26 & 21857.73 & 22878.92 & 21712.53 & 22878.45 & 433080000 & 22878.45\\\\\n",
       "\t6799 & 2018-12-27 & 22629.06 & 23138.89 & 22267.42 & 23138.82 & 407940000 & 23138.82\\\\\n",
       "\t6800 & 2018-12-28 & 23213.61 & 23381.88 & 22981.33 & 23062.40 & 336510000 & 23062.40\\\\\n",
       "\\end{tabular}\n"
      ],
      "text/markdown": [
       "\n",
       "A data.frame: 6 × 7\n",
       "\n",
       "| <!--/--> | Index &lt;date&gt; | DJI.Open &lt;dbl&gt; | DJI.High &lt;dbl&gt; | DJI.Low &lt;dbl&gt; | DJI.Close &lt;dbl&gt; | DJI.Volume &lt;dbl&gt; | DJI.Adjusted &lt;dbl&gt; |\n",
       "|---|---|---|---|---|---|---|---|\n",
       "| 6795 | 2018-12-20 | 23224.12 | 23282.20 | 22644.31 | 22859.60 | 576700000 | 22859.60 |\n",
       "| 6796 | 2018-12-21 | 22871.74 | 23254.59 | 22396.34 | 22445.37 | 900510000 | 22445.37 |\n",
       "| 6797 | 2018-12-24 | 22317.28 | 22339.87 | 21792.20 | 21792.20 | 308420000 | 21792.20 |\n",
       "| 6798 | 2018-12-26 | 21857.73 | 22878.92 | 21712.53 | 22878.45 | 433080000 | 22878.45 |\n",
       "| 6799 | 2018-12-27 | 22629.06 | 23138.89 | 22267.42 | 23138.82 | 407940000 | 23138.82 |\n",
       "| 6800 | 2018-12-28 | 23213.61 | 23381.88 | 22981.33 | 23062.40 | 336510000 | 23062.40 |\n",
       "\n"
      ],
      "text/plain": [
       "     Index      DJI.Open DJI.High DJI.Low  DJI.Close DJI.Volume DJI.Adjusted\n",
       "6795 2018-12-20 23224.12 23282.20 22644.31 22859.60  576700000  22859.60    \n",
       "6796 2018-12-21 22871.74 23254.59 22396.34 22445.37  900510000  22445.37    \n",
       "6797 2018-12-24 22317.28 22339.87 21792.20 21792.20  308420000  21792.20    \n",
       "6798 2018-12-26 21857.73 22878.92 21712.53 22878.45  433080000  22878.45    \n",
       "6799 2018-12-27 22629.06 23138.89 22267.42 23138.82  407940000  23138.82    \n",
       "6800 2018-12-28 23213.61 23381.88 22981.33 23062.40  336510000  23062.40    "
      ]
     },
     "metadata": {},
     "output_type": "display_data"
    }
   ],
   "source": [
    "tail(DJI.df)"
   ]
  },
  {
   "cell_type": "markdown",
   "metadata": {},
   "source": [
    "Now we begin the process of creating our MIDPPCA variable by finding the daily volatility."
   ]
  },
  {
   "cell_type": "code",
   "execution_count": 52,
   "metadata": {},
   "outputs": [],
   "source": [
    "DJI.df$DJI.V <- (DJI.df$DJI.High - DJI.df$DJI.Low)/ DJI.df$DJI.Adjusted"
   ]
  },
  {
   "cell_type": "code",
   "execution_count": 53,
   "metadata": {},
   "outputs": [
    {
     "data": {
      "text/html": [
       "<table>\n",
       "<caption>A data.frame: 6 × 8</caption>\n",
       "<thead>\n",
       "\t<tr><th></th><th scope=col>Index</th><th scope=col>DJI.Open</th><th scope=col>DJI.High</th><th scope=col>DJI.Low</th><th scope=col>DJI.Close</th><th scope=col>DJI.Volume</th><th scope=col>DJI.Adjusted</th><th scope=col>DJI.V</th></tr>\n",
       "\t<tr><th></th><th scope=col>&lt;date&gt;</th><th scope=col>&lt;dbl&gt;</th><th scope=col>&lt;dbl&gt;</th><th scope=col>&lt;dbl&gt;</th><th scope=col>&lt;dbl&gt;</th><th scope=col>&lt;dbl&gt;</th><th scope=col>&lt;dbl&gt;</th><th scope=col>&lt;dbl&gt;</th></tr>\n",
       "</thead>\n",
       "<tbody>\n",
       "\t<tr><th scope=row>1</th><td>1992-01-02</td><td>3152.1</td><td>3172.63</td><td>3139.31</td><td>3172.4</td><td>23550000</td><td>3172.4</td><td>0.010503034</td></tr>\n",
       "\t<tr><th scope=row>2</th><td>1992-01-03</td><td>3172.4</td><td>3210.64</td><td>3165.92</td><td>3201.5</td><td>23620000</td><td>3201.5</td><td>0.013968443</td></tr>\n",
       "\t<tr><th scope=row>3</th><td>1992-01-06</td><td>3201.5</td><td>3213.33</td><td>3191.86</td><td>3200.1</td><td>27280000</td><td>3200.1</td><td>0.006709156</td></tr>\n",
       "\t<tr><th scope=row>4</th><td>1992-01-07</td><td>3200.1</td><td>3210.20</td><td>3184.48</td><td>3204.8</td><td>25510000</td><td>3204.8</td><td>0.008025453</td></tr>\n",
       "\t<tr><th scope=row>5</th><td>1992-01-08</td><td>3204.8</td><td>3229.20</td><td>3185.82</td><td>3203.9</td><td>29040000</td><td>3203.9</td><td>0.013539712</td></tr>\n",
       "\t<tr><th scope=row>6</th><td>1992-01-09</td><td>3203.9</td><td>3228.31</td><td>3192.75</td><td>3209.5</td><td>29820000</td><td>3209.5</td><td>0.011079626</td></tr>\n",
       "</tbody>\n",
       "</table>\n"
      ],
      "text/latex": [
       "A data.frame: 6 × 8\n",
       "\\begin{tabular}{r|llllllll}\n",
       "  & Index & DJI.Open & DJI.High & DJI.Low & DJI.Close & DJI.Volume & DJI.Adjusted & DJI.V\\\\\n",
       "  & <date> & <dbl> & <dbl> & <dbl> & <dbl> & <dbl> & <dbl> & <dbl>\\\\\n",
       "\\hline\n",
       "\t1 & 1992-01-02 & 3152.1 & 3172.63 & 3139.31 & 3172.4 & 23550000 & 3172.4 & 0.010503034\\\\\n",
       "\t2 & 1992-01-03 & 3172.4 & 3210.64 & 3165.92 & 3201.5 & 23620000 & 3201.5 & 0.013968443\\\\\n",
       "\t3 & 1992-01-06 & 3201.5 & 3213.33 & 3191.86 & 3200.1 & 27280000 & 3200.1 & 0.006709156\\\\\n",
       "\t4 & 1992-01-07 & 3200.1 & 3210.20 & 3184.48 & 3204.8 & 25510000 & 3204.8 & 0.008025453\\\\\n",
       "\t5 & 1992-01-08 & 3204.8 & 3229.20 & 3185.82 & 3203.9 & 29040000 & 3203.9 & 0.013539712\\\\\n",
       "\t6 & 1992-01-09 & 3203.9 & 3228.31 & 3192.75 & 3209.5 & 29820000 & 3209.5 & 0.011079626\\\\\n",
       "\\end{tabular}\n"
      ],
      "text/markdown": [
       "\n",
       "A data.frame: 6 × 8\n",
       "\n",
       "| <!--/--> | Index &lt;date&gt; | DJI.Open &lt;dbl&gt; | DJI.High &lt;dbl&gt; | DJI.Low &lt;dbl&gt; | DJI.Close &lt;dbl&gt; | DJI.Volume &lt;dbl&gt; | DJI.Adjusted &lt;dbl&gt; | DJI.V &lt;dbl&gt; |\n",
       "|---|---|---|---|---|---|---|---|---|\n",
       "| 1 | 1992-01-02 | 3152.1 | 3172.63 | 3139.31 | 3172.4 | 23550000 | 3172.4 | 0.010503034 |\n",
       "| 2 | 1992-01-03 | 3172.4 | 3210.64 | 3165.92 | 3201.5 | 23620000 | 3201.5 | 0.013968443 |\n",
       "| 3 | 1992-01-06 | 3201.5 | 3213.33 | 3191.86 | 3200.1 | 27280000 | 3200.1 | 0.006709156 |\n",
       "| 4 | 1992-01-07 | 3200.1 | 3210.20 | 3184.48 | 3204.8 | 25510000 | 3204.8 | 0.008025453 |\n",
       "| 5 | 1992-01-08 | 3204.8 | 3229.20 | 3185.82 | 3203.9 | 29040000 | 3203.9 | 0.013539712 |\n",
       "| 6 | 1992-01-09 | 3203.9 | 3228.31 | 3192.75 | 3209.5 | 29820000 | 3209.5 | 0.011079626 |\n",
       "\n"
      ],
      "text/plain": [
       "  Index      DJI.Open DJI.High DJI.Low DJI.Close DJI.Volume DJI.Adjusted\n",
       "1 1992-01-02 3152.1   3172.63  3139.31 3172.4    23550000   3172.4      \n",
       "2 1992-01-03 3172.4   3210.64  3165.92 3201.5    23620000   3201.5      \n",
       "3 1992-01-06 3201.5   3213.33  3191.86 3200.1    27280000   3200.1      \n",
       "4 1992-01-07 3200.1   3210.20  3184.48 3204.8    25510000   3204.8      \n",
       "5 1992-01-08 3204.8   3229.20  3185.82 3203.9    29040000   3203.9      \n",
       "6 1992-01-09 3203.9   3228.31  3192.75 3209.5    29820000   3209.5      \n",
       "  DJI.V      \n",
       "1 0.010503034\n",
       "2 0.013968443\n",
       "3 0.006709156\n",
       "4 0.008025453\n",
       "5 0.013539712\n",
       "6 0.011079626"
      ]
     },
     "metadata": {},
     "output_type": "display_data"
    }
   ],
   "source": [
    "head(DJI.df)"
   ]
  },
  {
   "cell_type": "code",
   "execution_count": 61,
   "metadata": {},
   "outputs": [
    {
     "data": {
      "text/html": [
       "<table>\n",
       "<caption>A data.frame: 6 × 8</caption>\n",
       "<thead>\n",
       "\t<tr><th></th><th scope=col>Index</th><th scope=col>DJI.Open</th><th scope=col>DJI.High</th><th scope=col>DJI.Low</th><th scope=col>DJI.Close</th><th scope=col>DJI.Volume</th><th scope=col>DJI.Adjusted</th><th scope=col>DJI.V</th></tr>\n",
       "\t<tr><th></th><th scope=col>&lt;date&gt;</th><th scope=col>&lt;dbl&gt;</th><th scope=col>&lt;dbl&gt;</th><th scope=col>&lt;dbl&gt;</th><th scope=col>&lt;dbl&gt;</th><th scope=col>&lt;dbl&gt;</th><th scope=col>&lt;dbl&gt;</th><th scope=col>&lt;dbl&gt;</th></tr>\n",
       "</thead>\n",
       "<tbody>\n",
       "\t<tr><th scope=row>6795</th><td>2018-12-20</td><td>23224.12</td><td>23282.20</td><td>22644.31</td><td>22859.60</td><td>576700000</td><td>22859.60</td><td>0.02790463</td></tr>\n",
       "\t<tr><th scope=row>6796</th><td>2018-12-21</td><td>22871.74</td><td>23254.59</td><td>22396.34</td><td>22445.37</td><td>900510000</td><td>22445.37</td><td>0.03823729</td></tr>\n",
       "\t<tr><th scope=row>6797</th><td>2018-12-24</td><td>22317.28</td><td>22339.87</td><td>21792.20</td><td>21792.20</td><td>308420000</td><td>21792.20</td><td>0.02513147</td></tr>\n",
       "\t<tr><th scope=row>6798</th><td>2018-12-26</td><td>21857.73</td><td>22878.92</td><td>21712.53</td><td>22878.45</td><td>433080000</td><td>22878.45</td><td>0.05098207</td></tr>\n",
       "\t<tr><th scope=row>6799</th><td>2018-12-27</td><td>22629.06</td><td>23138.89</td><td>22267.42</td><td>23138.82</td><td>407940000</td><td>23138.82</td><td>0.03766271</td></tr>\n",
       "\t<tr><th scope=row>6800</th><td>2018-12-28</td><td>23213.61</td><td>23381.88</td><td>22981.33</td><td>23062.40</td><td>336510000</td><td>23062.40</td><td>0.01736813</td></tr>\n",
       "</tbody>\n",
       "</table>\n"
      ],
      "text/latex": [
       "A data.frame: 6 × 8\n",
       "\\begin{tabular}{r|llllllll}\n",
       "  & Index & DJI.Open & DJI.High & DJI.Low & DJI.Close & DJI.Volume & DJI.Adjusted & DJI.V\\\\\n",
       "  & <date> & <dbl> & <dbl> & <dbl> & <dbl> & <dbl> & <dbl> & <dbl>\\\\\n",
       "\\hline\n",
       "\t6795 & 2018-12-20 & 23224.12 & 23282.20 & 22644.31 & 22859.60 & 576700000 & 22859.60 & 0.02790463\\\\\n",
       "\t6796 & 2018-12-21 & 22871.74 & 23254.59 & 22396.34 & 22445.37 & 900510000 & 22445.37 & 0.03823729\\\\\n",
       "\t6797 & 2018-12-24 & 22317.28 & 22339.87 & 21792.20 & 21792.20 & 308420000 & 21792.20 & 0.02513147\\\\\n",
       "\t6798 & 2018-12-26 & 21857.73 & 22878.92 & 21712.53 & 22878.45 & 433080000 & 22878.45 & 0.05098207\\\\\n",
       "\t6799 & 2018-12-27 & 22629.06 & 23138.89 & 22267.42 & 23138.82 & 407940000 & 23138.82 & 0.03766271\\\\\n",
       "\t6800 & 2018-12-28 & 23213.61 & 23381.88 & 22981.33 & 23062.40 & 336510000 & 23062.40 & 0.01736813\\\\\n",
       "\\end{tabular}\n"
      ],
      "text/markdown": [
       "\n",
       "A data.frame: 6 × 8\n",
       "\n",
       "| <!--/--> | Index &lt;date&gt; | DJI.Open &lt;dbl&gt; | DJI.High &lt;dbl&gt; | DJI.Low &lt;dbl&gt; | DJI.Close &lt;dbl&gt; | DJI.Volume &lt;dbl&gt; | DJI.Adjusted &lt;dbl&gt; | DJI.V &lt;dbl&gt; |\n",
       "|---|---|---|---|---|---|---|---|---|\n",
       "| 6795 | 2018-12-20 | 23224.12 | 23282.20 | 22644.31 | 22859.60 | 576700000 | 22859.60 | 0.02790463 |\n",
       "| 6796 | 2018-12-21 | 22871.74 | 23254.59 | 22396.34 | 22445.37 | 900510000 | 22445.37 | 0.03823729 |\n",
       "| 6797 | 2018-12-24 | 22317.28 | 22339.87 | 21792.20 | 21792.20 | 308420000 | 21792.20 | 0.02513147 |\n",
       "| 6798 | 2018-12-26 | 21857.73 | 22878.92 | 21712.53 | 22878.45 | 433080000 | 22878.45 | 0.05098207 |\n",
       "| 6799 | 2018-12-27 | 22629.06 | 23138.89 | 22267.42 | 23138.82 | 407940000 | 23138.82 | 0.03766271 |\n",
       "| 6800 | 2018-12-28 | 23213.61 | 23381.88 | 22981.33 | 23062.40 | 336510000 | 23062.40 | 0.01736813 |\n",
       "\n"
      ],
      "text/plain": [
       "     Index      DJI.Open DJI.High DJI.Low  DJI.Close DJI.Volume DJI.Adjusted\n",
       "6795 2018-12-20 23224.12 23282.20 22644.31 22859.60  576700000  22859.60    \n",
       "6796 2018-12-21 22871.74 23254.59 22396.34 22445.37  900510000  22445.37    \n",
       "6797 2018-12-24 22317.28 22339.87 21792.20 21792.20  308420000  21792.20    \n",
       "6798 2018-12-26 21857.73 22878.92 21712.53 22878.45  433080000  22878.45    \n",
       "6799 2018-12-27 22629.06 23138.89 22267.42 23138.82  407940000  23138.82    \n",
       "6800 2018-12-28 23213.61 23381.88 22981.33 23062.40  336510000  23062.40    \n",
       "     DJI.V     \n",
       "6795 0.02790463\n",
       "6796 0.03823729\n",
       "6797 0.02513147\n",
       "6798 0.05098207\n",
       "6799 0.03766271\n",
       "6800 0.01736813"
      ]
     },
     "metadata": {},
     "output_type": "display_data"
    }
   ],
   "source": [
    "tail(DJI.df)"
   ]
  },
  {
   "cell_type": "markdown",
   "metadata": {},
   "source": [
    "We convert back to xts data type in order to produce monthly averages."
   ]
  },
  {
   "cell_type": "code",
   "execution_count": 65,
   "metadata": {},
   "outputs": [],
   "source": [
    "DJI.xts <- xts(DJI.df$DJI.V, DJI.df$Index)"
   ]
  },
  {
   "cell_type": "code",
   "execution_count": 66,
   "metadata": {},
   "outputs": [
    {
     "data": {
      "text/plain": [
       "                  [,1]\n",
       "1992-01-02 0.010503034\n",
       "1992-01-03 0.013968443\n",
       "1992-01-06 0.006709156\n",
       "1992-01-07 0.008025453\n",
       "1992-01-08 0.013539712\n",
       "1992-01-09 0.011079626"
      ]
     },
     "metadata": {},
     "output_type": "display_data"
    }
   ],
   "source": [
    "head(DJI.xts)"
   ]
  },
  {
   "cell_type": "code",
   "execution_count": 67,
   "metadata": {},
   "outputs": [
    {
     "data": {
      "text/plain": [
       "                 [,1]\n",
       "2018-12-20 0.02790463\n",
       "2018-12-21 0.03823729\n",
       "2018-12-24 0.02513147\n",
       "2018-12-26 0.05098207\n",
       "2018-12-27 0.03766271\n",
       "2018-12-28 0.01736813"
      ]
     },
     "metadata": {},
     "output_type": "display_data"
    }
   ],
   "source": [
    "tail(DJI.xts)"
   ]
  },
  {
   "cell_type": "code",
   "execution_count": 68,
   "metadata": {},
   "outputs": [],
   "source": [
    "DJI.xts <- apply.monthly(DJI.xts, mean)"
   ]
  },
  {
   "cell_type": "markdown",
   "metadata": {},
   "source": [
    "Here we rename our variable feature and line up the the appropriate months from the synthetic variable, which begins in Janurary 1980, 145 months before our Dow Jones data. "
   ]
  },
  {
   "cell_type": "code",
   "execution_count": 69,
   "metadata": {},
   "outputs": [],
   "source": [
    "names(DJI.xts)[1] <- \"DJI.MIDPPCA\"\n",
    "DJI.xts$GDP <- xts(gdp.pct.mo[145:468], index[145:468])"
   ]
  },
  {
   "cell_type": "code",
   "execution_count": 70,
   "metadata": {},
   "outputs": [
    {
     "data": {
      "text/plain": [
       "           DJI.MIDPPCA      GDP\n",
       "1992-01-31 0.011376414 1.548961\n",
       "1992-02-28 0.010951118 1.548961\n",
       "1992-03-31 0.008241389 1.548961\n",
       "1992-04-30 0.011253540 1.663807\n",
       "1992-05-29 0.009039687 1.663807\n",
       "1992-06-30 0.008274832 1.663807"
      ]
     },
     "metadata": {},
     "output_type": "display_data"
    }
   ],
   "source": [
    "head(DJI.xts)"
   ]
  },
  {
   "cell_type": "markdown",
   "metadata": {},
   "source": [
    "Viewing the tail of this object we see that we have generated NA values which we will drop from the analysis."
   ]
  },
  {
   "cell_type": "code",
   "execution_count": 71,
   "metadata": {},
   "outputs": [
    {
     "data": {
      "text/plain": [
       "           DJI.MIDPPCA       GDP\n",
       "2018-08-31 0.006334317 0.9163214\n",
       "2018-09-28 0.006728839 0.9163214\n",
       "2018-10-31 0.017060699 0.7992883\n",
       "2018-11-30 0.014171265 0.7992883\n",
       "2018-12-28 0.026286176        NA\n",
       "2018-12-31          NA 0.7992883"
      ]
     },
     "metadata": {},
     "output_type": "display_data"
    }
   ],
   "source": [
    "tail(DJI.xts)"
   ]
  },
  {
   "cell_type": "code",
   "execution_count": 72,
   "metadata": {},
   "outputs": [],
   "source": [
    "DJI.xts<-na.omit(DJI.xts)"
   ]
  },
  {
   "cell_type": "code",
   "execution_count": 73,
   "metadata": {},
   "outputs": [
    {
     "data": {
      "text/plain": [
       "           DJI.MIDPPCA       GDP\n",
       "2018-06-29 0.008267641 1.5104522\n",
       "2018-07-31 0.007154422 0.9163214\n",
       "2018-08-31 0.006334317 0.9163214\n",
       "2018-09-28 0.006728839 0.9163214\n",
       "2018-10-31 0.017060699 0.7992883\n",
       "2018-11-30 0.014171265 0.7992883"
      ]
     },
     "metadata": {},
     "output_type": "display_data"
    }
   ],
   "source": [
    "tail(DJI.xts)"
   ]
  },
  {
   "cell_type": "markdown",
   "metadata": {},
   "source": [
    "Now we just have to be sure to include the correct start and stop date for the pre-period and run the algorithm as we did before."
   ]
  },
  {
   "cell_type": "code",
   "execution_count": 74,
   "metadata": {},
   "outputs": [],
   "source": [
    "pre.period.DJI <- as.POSIXct(c('1992-01-31','1999-12-31'))\n",
    "post.period.DJI <- as.POSIXct(c('2000-01-31', '2018-11-30'))"
   ]
  },
  {
   "cell_type": "code",
   "execution_count": 75,
   "metadata": {},
   "outputs": [
    {
     "data": {
      "image/png": "[encoded data removed]",
      "text/plain": [
       "plot without title"
      ]
     },
     "metadata": {
      "image/png": {
       "height": 480,
       "width": 720
      },
      "text/plain": {
       "height": 480,
       "width": 720
      }
     },
     "output_type": "display_data"
    }
   ],
   "source": [
    "model.DJI <- CausalImpact(DJI.xts, pre.period.DJI, post.period.DJI)\n",
    "plot(model.DJI) + theme_gray() + labs(X=\"Decade\", y=\"% Change\")\n",
    "options(repr.plot.width=12, repr.plot.height=8)"
   ]
  },
  {
   "cell_type": "code",
   "execution_count": 76,
   "metadata": {},
   "outputs": [
    {
     "name": "stdout",
     "output_type": "stream",
     "text": [
      "Posterior inference {CausalImpact}\n",
      "\n",
      "                         Average             Cumulative       \n",
      "Actual                   0.013               2.945            \n",
      "Prediction (s.d.)        0.012 (0.00092)     2.817 (0.20910)  \n",
      "95% CI                   [0.011, 0.014]      [2.484, 3.176]   \n",
      "                                                              \n",
      "Absolute effect (s.d.)   0.00056 (0.00092)   0.12820 (0.20910)\n",
      "95% CI                   [-0.001, 0.002]     [-0.231, 0.462]  \n",
      "                                                              \n",
      "Relative effect (s.d.)   4.6% (7.4%)         4.6% (7.4%)      \n",
      "95% CI                   [-8.2%, 16%]        [-8.2%, 16%]     \n",
      "\n",
      "Posterior tail-area probability p:   0.24638\n",
      "Posterior prob. of a causal effect:  75%\n",
      "\n",
      "For more details, type: summary(impact, \"report\")\n",
      "\n"
     ]
    }
   ],
   "source": [
    "summary(model.DJI)"
   ]
  },
  {
   "cell_type": "code",
   "execution_count": 77,
   "metadata": {},
   "outputs": [
    {
     "name": "stdout",
     "output_type": "stream",
     "text": [
      "Analysis report {CausalImpact}\n",
      "\n",
      "\n",
      "During the post-intervention period, the response variable had an average value of approx. 0.013. In the absence of an intervention, we would have expected an average response of 0.012. The 95% interval of this counterfactual prediction is [0.011, 0.014]. Subtracting this prediction from the observed response yields an estimate of the causal effect the intervention had on the response variable. This effect is 0.00056 with a 95% interval of [-0.0010, 0.0020]. For a discussion of the significance of this effect, see below.\n",
      "\n",
      "Summing up the individual data points during the post-intervention period (which can only sometimes be meaningfully interpreted), the response variable had an overall value of 2.95. Had the intervention not taken place, we would have expected a sum of 2.82. The 95% interval of this prediction is [2.48, 3.18].\n",
      "\n",
      "The above results are given in terms of absolute numbers. In relative terms, the response variable showed an increase of +5%. The 95% interval of this percentage is [-8%, +16%].\n",
      "\n",
      "This means that, although the intervention appears to have caused a positive effect, this effect is not statistically significant when considering the entire post-intervention period as a whole. Individual days or shorter stretches within the intervention period may of course still have had a significant effect, as indicated whenever the lower limit of the impact time series (lower plot) was above zero. The apparent effect could be the result of random fluctuations that are unrelated to the intervention. This is often the case when the intervention period is very long and includes much of the time when the effect has already worn off. It can also be the case when the intervention period is too short to distinguish the signal from the noise. Finally, failing to find a significant effect can happen when there are not enough control variables or when these variables do not correlate well with the response variable during the learning period.\n",
      "\n",
      "The probability of obtaining this effect by chance is p = 0.246. This means the effect may be spurious and would generally not be considered statistically significant. \n"
     ]
    }
   ],
   "source": [
    "summary(model.DJI, \"report\")"
   ]
  },
  {
   "cell_type": "markdown",
   "metadata": {},
   "source": [
    "### Nasdaq Data"
   ]
  },
  {
   "cell_type": "markdown",
   "metadata": {},
   "source": [
    "We finish this project with the Nasdaq Composite Index."
   ]
  },
  {
   "cell_type": "code",
   "execution_count": 78,
   "metadata": {},
   "outputs": [],
   "source": [
    "nasdaq <- getSymbols.yahoo('^IXIC', auto.assign=FALSE, from='1980-01-01',to='2018-12-31')\n",
    "options(\"getSymbols.warning4.0\"=FALSE)"
   ]
  },
  {
   "cell_type": "markdown",
   "metadata": {},
   "source": [
    "Viewing the data we see a new problem with the data from Yahoo Finance, the first few years of the data only shows one number for the various price features which would make it difficult to try and calculate our MIDPPCA variable."
   ]
  },
  {
   "cell_type": "code",
   "execution_count": 79,
   "metadata": {},
   "outputs": [
    {
     "data": {
      "text/html": [
       "<table>\n",
       "<caption>A data.frame: 6 × 7</caption>\n",
       "<thead>\n",
       "\t<tr><th></th><th scope=col>Index</th><th scope=col>IXIC.Open</th><th scope=col>IXIC.High</th><th scope=col>IXIC.Low</th><th scope=col>IXIC.Close</th><th scope=col>IXIC.Volume</th><th scope=col>IXIC.Adjusted</th></tr>\n",
       "\t<tr><th></th><th scope=col>&lt;date&gt;</th><th scope=col>&lt;dbl&gt;</th><th scope=col>&lt;dbl&gt;</th><th scope=col>&lt;dbl&gt;</th><th scope=col>&lt;dbl&gt;</th><th scope=col>&lt;dbl&gt;</th><th scope=col>&lt;dbl&gt;</th></tr>\n",
       "</thead>\n",
       "<tbody>\n",
       "\t<tr><th scope=row>1</th><td>1980-01-02</td><td>148.17</td><td>148.17</td><td>148.17</td><td>148.17</td><td>0</td><td>148.17</td></tr>\n",
       "\t<tr><th scope=row>2</th><td>1980-01-03</td><td>145.97</td><td>145.97</td><td>145.97</td><td>145.97</td><td>0</td><td>145.97</td></tr>\n",
       "\t<tr><th scope=row>3</th><td>1980-01-04</td><td>148.02</td><td>148.02</td><td>148.02</td><td>148.02</td><td>0</td><td>148.02</td></tr>\n",
       "\t<tr><th scope=row>4</th><td>1980-01-07</td><td>148.62</td><td>148.62</td><td>148.62</td><td>148.62</td><td>0</td><td>148.62</td></tr>\n",
       "\t<tr><th scope=row>5</th><td>1980-01-08</td><td>150.68</td><td>150.68</td><td>150.68</td><td>150.68</td><td>0</td><td>150.68</td></tr>\n",
       "\t<tr><th scope=row>6</th><td>1980-01-09</td><td>151.60</td><td>151.60</td><td>151.60</td><td>151.60</td><td>0</td><td>151.60</td></tr>\n",
       "</tbody>\n",
       "</table>\n"
      ],
      "text/latex": [
       "A data.frame: 6 × 7\n",
       "\\begin{tabular}{r|lllllll}\n",
       "  & Index & IXIC.Open & IXIC.High & IXIC.Low & IXIC.Close & IXIC.Volume & IXIC.Adjusted\\\\\n",
       "  & <date> & <dbl> & <dbl> & <dbl> & <dbl> & <dbl> & <dbl>\\\\\n",
       "\\hline\n",
       "\t1 & 1980-01-02 & 148.17 & 148.17 & 148.17 & 148.17 & 0 & 148.17\\\\\n",
       "\t2 & 1980-01-03 & 145.97 & 145.97 & 145.97 & 145.97 & 0 & 145.97\\\\\n",
       "\t3 & 1980-01-04 & 148.02 & 148.02 & 148.02 & 148.02 & 0 & 148.02\\\\\n",
       "\t4 & 1980-01-07 & 148.62 & 148.62 & 148.62 & 148.62 & 0 & 148.62\\\\\n",
       "\t5 & 1980-01-08 & 150.68 & 150.68 & 150.68 & 150.68 & 0 & 150.68\\\\\n",
       "\t6 & 1980-01-09 & 151.60 & 151.60 & 151.60 & 151.60 & 0 & 151.60\\\\\n",
       "\\end{tabular}\n"
      ],
      "text/markdown": [
       "\n",
       "A data.frame: 6 × 7\n",
       "\n",
       "| <!--/--> | Index &lt;date&gt; | IXIC.Open &lt;dbl&gt; | IXIC.High &lt;dbl&gt; | IXIC.Low &lt;dbl&gt; | IXIC.Close &lt;dbl&gt; | IXIC.Volume &lt;dbl&gt; | IXIC.Adjusted &lt;dbl&gt; |\n",
       "|---|---|---|---|---|---|---|---|\n",
       "| 1 | 1980-01-02 | 148.17 | 148.17 | 148.17 | 148.17 | 0 | 148.17 |\n",
       "| 2 | 1980-01-03 | 145.97 | 145.97 | 145.97 | 145.97 | 0 | 145.97 |\n",
       "| 3 | 1980-01-04 | 148.02 | 148.02 | 148.02 | 148.02 | 0 | 148.02 |\n",
       "| 4 | 1980-01-07 | 148.62 | 148.62 | 148.62 | 148.62 | 0 | 148.62 |\n",
       "| 5 | 1980-01-08 | 150.68 | 150.68 | 150.68 | 150.68 | 0 | 150.68 |\n",
       "| 6 | 1980-01-09 | 151.60 | 151.60 | 151.60 | 151.60 | 0 | 151.60 |\n",
       "\n"
      ],
      "text/plain": [
       "  Index      IXIC.Open IXIC.High IXIC.Low IXIC.Close IXIC.Volume IXIC.Adjusted\n",
       "1 1980-01-02 148.17    148.17    148.17   148.17     0           148.17       \n",
       "2 1980-01-03 145.97    145.97    145.97   145.97     0           145.97       \n",
       "3 1980-01-04 148.02    148.02    148.02   148.02     0           148.02       \n",
       "4 1980-01-07 148.62    148.62    148.62   148.62     0           148.62       \n",
       "5 1980-01-08 150.68    150.68    150.68   150.68     0           150.68       \n",
       "6 1980-01-09 151.60    151.60    151.60   151.60     0           151.60       "
      ]
     },
     "metadata": {},
     "output_type": "display_data"
    }
   ],
   "source": [
    "NDAQ.df <- fortify(nasdaq)\n",
    "head(NDAQ.df)"
   ]
  },
  {
   "cell_type": "code",
   "execution_count": 80,
   "metadata": {},
   "outputs": [
    {
     "data": {
      "text/html": [
       "<table>\n",
       "<caption>A data.frame: 6 × 7</caption>\n",
       "<thead>\n",
       "\t<tr><th></th><th scope=col>Index</th><th scope=col>IXIC.Open</th><th scope=col>IXIC.High</th><th scope=col>IXIC.Low</th><th scope=col>IXIC.Close</th><th scope=col>IXIC.Volume</th><th scope=col>IXIC.Adjusted</th></tr>\n",
       "\t<tr><th></th><th scope=col>&lt;date&gt;</th><th scope=col>&lt;dbl&gt;</th><th scope=col>&lt;dbl&gt;</th><th scope=col>&lt;dbl&gt;</th><th scope=col>&lt;dbl&gt;</th><th scope=col>&lt;dbl&gt;</th><th scope=col>&lt;dbl&gt;</th></tr>\n",
       "</thead>\n",
       "<tbody>\n",
       "\t<tr><th scope=row>9829</th><td>2018-12-20</td><td>6607.76</td><td>6666.20</td><td>6447.91</td><td>6528.41</td><td>3258090000</td><td>6528.41</td></tr>\n",
       "\t<tr><th scope=row>9830</th><td>2018-12-21</td><td>6573.49</td><td>6586.68</td><td>6304.63</td><td>6332.99</td><td>4534120000</td><td>6332.99</td></tr>\n",
       "\t<tr><th scope=row>9831</th><td>2018-12-24</td><td>6278.49</td><td>6355.18</td><td>6190.17</td><td>6192.92</td><td>1647270000</td><td>6192.92</td></tr>\n",
       "\t<tr><th scope=row>9832</th><td>2018-12-26</td><td>6257.86</td><td>6555.53</td><td>6214.34</td><td>6554.36</td><td>2558940000</td><td>6554.36</td></tr>\n",
       "\t<tr><th scope=row>9833</th><td>2018-12-27</td><td>6457.19</td><td>6583.01</td><td>6336.97</td><td>6579.49</td><td>2415870000</td><td>6579.49</td></tr>\n",
       "\t<tr><th scope=row>9834</th><td>2018-12-28</td><td>6616.79</td><td>6684.18</td><td>6529.22</td><td>6584.52</td><td>2199090000</td><td>6584.52</td></tr>\n",
       "</tbody>\n",
       "</table>\n"
      ],
      "text/latex": [
       "A data.frame: 6 × 7\n",
       "\\begin{tabular}{r|lllllll}\n",
       "  & Index & IXIC.Open & IXIC.High & IXIC.Low & IXIC.Close & IXIC.Volume & IXIC.Adjusted\\\\\n",
       "  & <date> & <dbl> & <dbl> & <dbl> & <dbl> & <dbl> & <dbl>\\\\\n",
       "\\hline\n",
       "\t9829 & 2018-12-20 & 6607.76 & 6666.20 & 6447.91 & 6528.41 & 3258090000 & 6528.41\\\\\n",
       "\t9830 & 2018-12-21 & 6573.49 & 6586.68 & 6304.63 & 6332.99 & 4534120000 & 6332.99\\\\\n",
       "\t9831 & 2018-12-24 & 6278.49 & 6355.18 & 6190.17 & 6192.92 & 1647270000 & 6192.92\\\\\n",
       "\t9832 & 2018-12-26 & 6257.86 & 6555.53 & 6214.34 & 6554.36 & 2558940000 & 6554.36\\\\\n",
       "\t9833 & 2018-12-27 & 6457.19 & 6583.01 & 6336.97 & 6579.49 & 2415870000 & 6579.49\\\\\n",
       "\t9834 & 2018-12-28 & 6616.79 & 6684.18 & 6529.22 & 6584.52 & 2199090000 & 6584.52\\\\\n",
       "\\end{tabular}\n"
      ],
      "text/markdown": [
       "\n",
       "A data.frame: 6 × 7\n",
       "\n",
       "| <!--/--> | Index &lt;date&gt; | IXIC.Open &lt;dbl&gt; | IXIC.High &lt;dbl&gt; | IXIC.Low &lt;dbl&gt; | IXIC.Close &lt;dbl&gt; | IXIC.Volume &lt;dbl&gt; | IXIC.Adjusted &lt;dbl&gt; |\n",
       "|---|---|---|---|---|---|---|---|\n",
       "| 9829 | 2018-12-20 | 6607.76 | 6666.20 | 6447.91 | 6528.41 | 3258090000 | 6528.41 |\n",
       "| 9830 | 2018-12-21 | 6573.49 | 6586.68 | 6304.63 | 6332.99 | 4534120000 | 6332.99 |\n",
       "| 9831 | 2018-12-24 | 6278.49 | 6355.18 | 6190.17 | 6192.92 | 1647270000 | 6192.92 |\n",
       "| 9832 | 2018-12-26 | 6257.86 | 6555.53 | 6214.34 | 6554.36 | 2558940000 | 6554.36 |\n",
       "| 9833 | 2018-12-27 | 6457.19 | 6583.01 | 6336.97 | 6579.49 | 2415870000 | 6579.49 |\n",
       "| 9834 | 2018-12-28 | 6616.79 | 6684.18 | 6529.22 | 6584.52 | 2199090000 | 6584.52 |\n",
       "\n"
      ],
      "text/plain": [
       "     Index      IXIC.Open IXIC.High IXIC.Low IXIC.Close IXIC.Volume\n",
       "9829 2018-12-20 6607.76   6666.20   6447.91  6528.41    3258090000 \n",
       "9830 2018-12-21 6573.49   6586.68   6304.63  6332.99    4534120000 \n",
       "9831 2018-12-24 6278.49   6355.18   6190.17  6192.92    1647270000 \n",
       "9832 2018-12-26 6257.86   6555.53   6214.34  6554.36    2558940000 \n",
       "9833 2018-12-27 6457.19   6583.01   6336.97  6579.49    2415870000 \n",
       "9834 2018-12-28 6616.79   6684.18   6529.22  6584.52    2199090000 \n",
       "     IXIC.Adjusted\n",
       "9829 6528.41      \n",
       "9830 6332.99      \n",
       "9831 6192.92      \n",
       "9832 6554.36      \n",
       "9833 6579.49      \n",
       "9834 6584.52      "
      ]
     },
     "metadata": {},
     "output_type": "display_data"
    }
   ],
   "source": [
    "tail(NDAQ.df)"
   ]
  },
  {
   "cell_type": "markdown",
   "metadata": {},
   "source": [
    "In creating the Volatility column we notice that the calculation yields zeroes for the first n observations, this may effect our analysis so we must find n."
   ]
  },
  {
   "cell_type": "code",
   "execution_count": 81,
   "metadata": {},
   "outputs": [],
   "source": [
    "NDAQ.df$IXIC.V <- (NDAQ.df$IXIC.High - NDAQ.df$IXIC.Low)/NDAQ.df$IXIC.Adjusted"
   ]
  },
  {
   "cell_type": "code",
   "execution_count": 82,
   "metadata": {},
   "outputs": [
    {
     "data": {
      "text/html": [
       "<table>\n",
       "<caption>A data.frame: 6 × 8</caption>\n",
       "<thead>\n",
       "\t<tr><th></th><th scope=col>Index</th><th scope=col>IXIC.Open</th><th scope=col>IXIC.High</th><th scope=col>IXIC.Low</th><th scope=col>IXIC.Close</th><th scope=col>IXIC.Volume</th><th scope=col>IXIC.Adjusted</th><th scope=col>IXIC.V</th></tr>\n",
       "\t<tr><th></th><th scope=col>&lt;date&gt;</th><th scope=col>&lt;dbl&gt;</th><th scope=col>&lt;dbl&gt;</th><th scope=col>&lt;dbl&gt;</th><th scope=col>&lt;dbl&gt;</th><th scope=col>&lt;dbl&gt;</th><th scope=col>&lt;dbl&gt;</th><th scope=col>&lt;dbl&gt;</th></tr>\n",
       "</thead>\n",
       "<tbody>\n",
       "\t<tr><th scope=row>1</th><td>1980-01-02</td><td>148.17</td><td>148.17</td><td>148.17</td><td>148.17</td><td>0</td><td>148.17</td><td>0</td></tr>\n",
       "\t<tr><th scope=row>2</th><td>1980-01-03</td><td>145.97</td><td>145.97</td><td>145.97</td><td>145.97</td><td>0</td><td>145.97</td><td>0</td></tr>\n",
       "\t<tr><th scope=row>3</th><td>1980-01-04</td><td>148.02</td><td>148.02</td><td>148.02</td><td>148.02</td><td>0</td><td>148.02</td><td>0</td></tr>\n",
       "\t<tr><th scope=row>4</th><td>1980-01-07</td><td>148.62</td><td>148.62</td><td>148.62</td><td>148.62</td><td>0</td><td>148.62</td><td>0</td></tr>\n",
       "\t<tr><th scope=row>5</th><td>1980-01-08</td><td>150.68</td><td>150.68</td><td>150.68</td><td>150.68</td><td>0</td><td>150.68</td><td>0</td></tr>\n",
       "\t<tr><th scope=row>6</th><td>1980-01-09</td><td>151.60</td><td>151.60</td><td>151.60</td><td>151.60</td><td>0</td><td>151.60</td><td>0</td></tr>\n",
       "</tbody>\n",
       "</table>\n"
      ],
      "text/latex": [
       "A data.frame: 6 × 8\n",
       "\\begin{tabular}{r|llllllll}\n",
       "  & Index & IXIC.Open & IXIC.High & IXIC.Low & IXIC.Close & IXIC.Volume & IXIC.Adjusted & IXIC.V\\\\\n",
       "  & <date> & <dbl> & <dbl> & <dbl> & <dbl> & <dbl> & <dbl> & <dbl>\\\\\n",
       "\\hline\n",
       "\t1 & 1980-01-02 & 148.17 & 148.17 & 148.17 & 148.17 & 0 & 148.17 & 0\\\\\n",
       "\t2 & 1980-01-03 & 145.97 & 145.97 & 145.97 & 145.97 & 0 & 145.97 & 0\\\\\n",
       "\t3 & 1980-01-04 & 148.02 & 148.02 & 148.02 & 148.02 & 0 & 148.02 & 0\\\\\n",
       "\t4 & 1980-01-07 & 148.62 & 148.62 & 148.62 & 148.62 & 0 & 148.62 & 0\\\\\n",
       "\t5 & 1980-01-08 & 150.68 & 150.68 & 150.68 & 150.68 & 0 & 150.68 & 0\\\\\n",
       "\t6 & 1980-01-09 & 151.60 & 151.60 & 151.60 & 151.60 & 0 & 151.60 & 0\\\\\n",
       "\\end{tabular}\n"
      ],
      "text/markdown": [
       "\n",
       "A data.frame: 6 × 8\n",
       "\n",
       "| <!--/--> | Index &lt;date&gt; | IXIC.Open &lt;dbl&gt; | IXIC.High &lt;dbl&gt; | IXIC.Low &lt;dbl&gt; | IXIC.Close &lt;dbl&gt; | IXIC.Volume &lt;dbl&gt; | IXIC.Adjusted &lt;dbl&gt; | IXIC.V &lt;dbl&gt; |\n",
       "|---|---|---|---|---|---|---|---|---|\n",
       "| 1 | 1980-01-02 | 148.17 | 148.17 | 148.17 | 148.17 | 0 | 148.17 | 0 |\n",
       "| 2 | 1980-01-03 | 145.97 | 145.97 | 145.97 | 145.97 | 0 | 145.97 | 0 |\n",
       "| 3 | 1980-01-04 | 148.02 | 148.02 | 148.02 | 148.02 | 0 | 148.02 | 0 |\n",
       "| 4 | 1980-01-07 | 148.62 | 148.62 | 148.62 | 148.62 | 0 | 148.62 | 0 |\n",
       "| 5 | 1980-01-08 | 150.68 | 150.68 | 150.68 | 150.68 | 0 | 150.68 | 0 |\n",
       "| 6 | 1980-01-09 | 151.60 | 151.60 | 151.60 | 151.60 | 0 | 151.60 | 0 |\n",
       "\n"
      ],
      "text/plain": [
       "  Index      IXIC.Open IXIC.High IXIC.Low IXIC.Close IXIC.Volume IXIC.Adjusted\n",
       "1 1980-01-02 148.17    148.17    148.17   148.17     0           148.17       \n",
       "2 1980-01-03 145.97    145.97    145.97   145.97     0           145.97       \n",
       "3 1980-01-04 148.02    148.02    148.02   148.02     0           148.02       \n",
       "4 1980-01-07 148.62    148.62    148.62   148.62     0           148.62       \n",
       "5 1980-01-08 150.68    150.68    150.68   150.68     0           150.68       \n",
       "6 1980-01-09 151.60    151.60    151.60   151.60     0           151.60       \n",
       "  IXIC.V\n",
       "1 0     \n",
       "2 0     \n",
       "3 0     \n",
       "4 0     \n",
       "5 0     \n",
       "6 0     "
      ]
     },
     "metadata": {},
     "output_type": "display_data"
    }
   ],
   "source": [
    "head(NDAQ.df)"
   ]
  },
  {
   "cell_type": "code",
   "execution_count": 83,
   "metadata": {
    "scrolled": true
   },
   "outputs": [
    {
     "data": {
      "text/html": [
       "<style>\n",
       ".list-inline {list-style: none; margin:0; padding: 0}\n",
       ".list-inline>li {display: inline-block}\n",
       ".list-inline>li:not(:last-child)::after {content: \"\\00b7\"; padding: 0 .5ex}\n",
       "</style>\n",
       "<ol class=list-inline><li>1</li><li>2</li><li>3</li><li>4</li><li>5</li><li>6</li><li>7</li><li>8</li><li>9</li><li>10</li><li>11</li><li>12</li><li>13</li><li>14</li><li>15</li><li>16</li><li>17</li><li>18</li><li>19</li><li>20</li><li>21</li><li>22</li><li>23</li><li>24</li><li>25</li><li>26</li><li>27</li><li>28</li><li>29</li><li>30</li><li>31</li><li>32</li><li>33</li><li>34</li><li>35</li><li>36</li><li>37</li><li>38</li><li>39</li><li>40</li><li>41</li><li>42</li><li>43</li><li>44</li><li>45</li><li>46</li><li>47</li><li>48</li><li>49</li><li>50</li><li>51</li><li>52</li><li>53</li><li>54</li><li>55</li><li>56</li><li>57</li><li>58</li><li>59</li><li>60</li><li>61</li><li>62</li><li>63</li><li>64</li><li>65</li><li>66</li><li>67</li><li>68</li><li>69</li><li>70</li><li>71</li><li>72</li><li>73</li><li>74</li><li>75</li><li>76</li><li>77</li><li>78</li><li>79</li><li>80</li><li>81</li><li>82</li><li>83</li><li>84</li><li>85</li><li>86</li><li>87</li><li>88</li><li>89</li><li>90</li><li>91</li><li>92</li><li>93</li><li>94</li><li>95</li><li>96</li><li>97</li><li>98</li><li>99</li><li>100</li><li>101</li><li>102</li><li>103</li><li>104</li><li>105</li><li>106</li><li>107</li><li>108</li><li>109</li><li>110</li><li>111</li><li>112</li><li>113</li><li>114</li><li>115</li><li>116</li><li>117</li><li>118</li><li>119</li><li>120</li><li>121</li><li>122</li><li>123</li><li>124</li><li>125</li><li>126</li><li>127</li><li>128</li><li>129</li><li>130</li><li>131</li><li>132</li><li>133</li><li>134</li><li>135</li><li>136</li><li>137</li><li>138</li><li>139</li><li>140</li><li>141</li><li>142</li><li>143</li><li>144</li><li>145</li><li>146</li><li>147</li><li>148</li><li>149</li><li>150</li><li>151</li><li>152</li><li>153</li><li>154</li><li>155</li><li>156</li><li>157</li><li>158</li><li>159</li><li>160</li><li>161</li><li>162</li><li>163</li><li>164</li><li>165</li><li>166</li><li>167</li><li>168</li><li>169</li><li>170</li><li>171</li><li>172</li><li>173</li><li>174</li><li>175</li><li>176</li><li>177</li><li>178</li><li>179</li><li>180</li><li>181</li><li>182</li><li>183</li><li>184</li><li>185</li><li>186</li><li>187</li><li>188</li><li>189</li><li>190</li><li>191</li><li>192</li><li>193</li><li>194</li><li>195</li><li>196</li><li>197</li><li>198</li><li>199</li><li>200</li><li>...</li><li>1012</li><li>1013</li><li>1014</li><li>1015</li><li>1016</li><li>1017</li><li>1018</li><li>1019</li><li>1020</li><li>1021</li><li>1022</li><li>1023</li><li>1024</li><li>1025</li><li>1026</li><li>1027</li><li>1028</li><li>1029</li><li>1030</li><li>1031</li><li>1032</li><li>1033</li><li>1034</li><li>1035</li><li>1036</li><li>1037</li><li>1038</li><li>1039</li><li>1040</li><li>1041</li><li>1042</li><li>1043</li><li>1044</li><li>1045</li><li>1046</li><li>1047</li><li>1048</li><li>1049</li><li>1050</li><li>1051</li><li>1052</li><li>1053</li><li>1054</li><li>1055</li><li>1056</li><li>1057</li><li>1058</li><li>1059</li><li>1060</li><li>1061</li><li>1062</li><li>1063</li><li>1064</li><li>1065</li><li>1066</li><li>1067</li><li>1068</li><li>1069</li><li>1070</li><li>1071</li><li>1072</li><li>1073</li><li>1074</li><li>1075</li><li>1076</li><li>1077</li><li>1078</li><li>1079</li><li>1080</li><li>1081</li><li>1082</li><li>1083</li><li>1084</li><li>1085</li><li>1086</li><li>1087</li><li>1088</li><li>1089</li><li>1090</li><li>1091</li><li>1092</li><li>1093</li><li>1094</li><li>1095</li><li>1096</li><li>1097</li><li>1098</li><li>1099</li><li>1100</li><li>1101</li><li>1102</li><li>1103</li><li>1104</li><li>1105</li><li>1106</li><li>1107</li><li>1108</li><li>1109</li><li>1110</li><li>1111</li><li>1112</li><li>1113</li><li>1114</li><li>1115</li><li>1116</li><li>1117</li><li>1118</li><li>1119</li><li>1120</li><li>1121</li><li>1122</li><li>1123</li><li>1124</li><li>1125</li><li>1126</li><li>1127</li><li>1128</li><li>1129</li><li>1130</li><li>1131</li><li>1132</li><li>1133</li><li>1134</li><li>1135</li><li>1136</li><li>1137</li><li>1138</li><li>1139</li><li>1140</li><li>1141</li><li>1142</li><li>1143</li><li>1144</li><li>1145</li><li>1146</li><li>1147</li><li>1148</li><li>1149</li><li>1150</li><li>1151</li><li>1152</li><li>1153</li><li>1154</li><li>1155</li><li>1156</li><li>1157</li><li>1158</li><li>1159</li><li>1160</li><li>1161</li><li>1162</li><li>1163</li><li>1164</li><li>1165</li><li>1166</li><li>1167</li><li>1168</li><li>1169</li><li>1170</li><li>1171</li><li>1172</li><li>1173</li><li>1174</li><li>1175</li><li>1176</li><li>1177</li><li>1178</li><li>1179</li><li>1180</li><li>1181</li><li>1182</li><li>1183</li><li>1184</li><li>1185</li><li>1186</li><li>1187</li><li>1188</li><li>1189</li><li>1190</li><li>1191</li><li>1192</li><li>1193</li><li>1194</li><li>1195</li><li>1196</li><li>1197</li><li>1198</li><li>1199</li><li>1200</li><li>1201</li><li>1202</li><li>1203</li><li>1204</li><li>1205</li><li>1206</li><li>1207</li><li>1208</li><li>1209</li><li>1553</li><li>2595</li></ol>\n"
      ],
      "text/latex": [
       "\\begin{enumerate*}\n",
       "\\item 1\n",
       "\\item 2\n",
       "\\item 3\n",
       "\\item 4\n",
       "\\item 5\n",
       "\\item 6\n",
       "\\item 7\n",
       "\\item 8\n",
       "\\item 9\n",
       "\\item 10\n",
       "\\item 11\n",
       "\\item 12\n",
       "\\item 13\n",
       "\\item 14\n",
       "\\item 15\n",
       "\\item 16\n",
       "\\item 17\n",
       "\\item 18\n",
       "\\item 19\n",
       "\\item 20\n",
       "\\item 21\n",
       "\\item 22\n",
       "\\item 23\n",
       "\\item 24\n",
       "\\item 25\n",
       "\\item 26\n",
       "\\item 27\n",
       "\\item 28\n",
       "\\item 29\n",
       "\\item 30\n",
       "\\item 31\n",
       "\\item 32\n",
       "\\item 33\n",
       "\\item 34\n",
       "\\item 35\n",
       "\\item 36\n",
       "\\item 37\n",
       "\\item 38\n",
       "\\item 39\n",
       "\\item 40\n",
       "\\item 41\n",
       "\\item 42\n",
       "\\item 43\n",
       "\\item 44\n",
       "\\item 45\n",
       "\\item 46\n",
       "\\item 47\n",
       "\\item 48\n",
       "\\item 49\n",
       "\\item 50\n",
       "\\item 51\n",
       "\\item 52\n",
       "\\item 53\n",
       "\\item 54\n",
       "\\item 55\n",
       "\\item 56\n",
       "\\item 57\n",
       "\\item 58\n",
       "\\item 59\n",
       "\\item 60\n",
       "\\item 61\n",
       "\\item 62\n",
       "\\item 63\n",
       "\\item 64\n",
       "\\item 65\n",
       "\\item 66\n",
       "\\item 67\n",
       "\\item 68\n",
       "\\item 69\n",
       "\\item 70\n",
       "\\item 71\n",
       "\\item 72\n",
       "\\item 73\n",
       "\\item 74\n",
       "\\item 75\n",
       "\\item 76\n",
       "\\item 77\n",
       "\\item 78\n",
       "\\item 79\n",
       "\\item 80\n",
       "\\item 81\n",
       "\\item 82\n",
       "\\item 83\n",
       "\\item 84\n",
       "\\item 85\n",
       "\\item 86\n",
       "\\item 87\n",
       "\\item 88\n",
       "\\item 89\n",
       "\\item 90\n",
       "\\item 91\n",
       "\\item 92\n",
       "\\item 93\n",
       "\\item 94\n",
       "\\item 95\n",
       "\\item 96\n",
       "\\item 97\n",
       "\\item 98\n",
       "\\item 99\n",
       "\\item 100\n",
       "\\item 101\n",
       "\\item 102\n",
       "\\item 103\n",
       "\\item 104\n",
       "\\item 105\n",
       "\\item 106\n",
       "\\item 107\n",
       "\\item 108\n",
       "\\item 109\n",
       "\\item 110\n",
       "\\item 111\n",
       "\\item 112\n",
       "\\item 113\n",
       "\\item 114\n",
       "\\item 115\n",
       "\\item 116\n",
       "\\item 117\n",
       "\\item 118\n",
       "\\item 119\n",
       "\\item 120\n",
       "\\item 121\n",
       "\\item 122\n",
       "\\item 123\n",
       "\\item 124\n",
       "\\item 125\n",
       "\\item 126\n",
       "\\item 127\n",
       "\\item 128\n",
       "\\item 129\n",
       "\\item 130\n",
       "\\item 131\n",
       "\\item 132\n",
       "\\item 133\n",
       "\\item 134\n",
       "\\item 135\n",
       "\\item 136\n",
       "\\item 137\n",
       "\\item 138\n",
       "\\item 139\n",
       "\\item 140\n",
       "\\item 141\n",
       "\\item 142\n",
       "\\item 143\n",
       "\\item 144\n",
       "\\item 145\n",
       "\\item 146\n",
       "\\item 147\n",
       "\\item 148\n",
       "\\item 149\n",
       "\\item 150\n",
       "\\item 151\n",
       "\\item 152\n",
       "\\item 153\n",
       "\\item 154\n",
       "\\item 155\n",
       "\\item 156\n",
       "\\item 157\n",
       "\\item 158\n",
       "\\item 159\n",
       "\\item 160\n",
       "\\item 161\n",
       "\\item 162\n",
       "\\item 163\n",
       "\\item 164\n",
       "\\item 165\n",
       "\\item 166\n",
       "\\item 167\n",
       "\\item 168\n",
       "\\item 169\n",
       "\\item 170\n",
       "\\item 171\n",
       "\\item 172\n",
       "\\item 173\n",
       "\\item 174\n",
       "\\item 175\n",
       "\\item 176\n",
       "\\item 177\n",
       "\\item 178\n",
       "\\item 179\n",
       "\\item 180\n",
       "\\item 181\n",
       "\\item 182\n",
       "\\item 183\n",
       "\\item 184\n",
       "\\item 185\n",
       "\\item 186\n",
       "\\item 187\n",
       "\\item 188\n",
       "\\item 189\n",
       "\\item 190\n",
       "\\item 191\n",
       "\\item 192\n",
       "\\item 193\n",
       "\\item 194\n",
       "\\item 195\n",
       "\\item 196\n",
       "\\item 197\n",
       "\\item 198\n",
       "\\item 199\n",
       "\\item 200\n",
       "\\item ...\n",
       "\\item 1012\n",
       "\\item 1013\n",
       "\\item 1014\n",
       "\\item 1015\n",
       "\\item 1016\n",
       "\\item 1017\n",
       "\\item 1018\n",
       "\\item 1019\n",
       "\\item 1020\n",
       "\\item 1021\n",
       "\\item 1022\n",
       "\\item 1023\n",
       "\\item 1024\n",
       "\\item 1025\n",
       "\\item 1026\n",
       "\\item 1027\n",
       "\\item 1028\n",
       "\\item 1029\n",
       "\\item 1030\n",
       "\\item 1031\n",
       "\\item 1032\n",
       "\\item 1033\n",
       "\\item 1034\n",
       "\\item 1035\n",
       "\\item 1036\n",
       "\\item 1037\n",
       "\\item 1038\n",
       "\\item 1039\n",
       "\\item 1040\n",
       "\\item 1041\n",
       "\\item 1042\n",
       "\\item 1043\n",
       "\\item 1044\n",
       "\\item 1045\n",
       "\\item 1046\n",
       "\\item 1047\n",
       "\\item 1048\n",
       "\\item 1049\n",
       "\\item 1050\n",
       "\\item 1051\n",
       "\\item 1052\n",
       "\\item 1053\n",
       "\\item 1054\n",
       "\\item 1055\n",
       "\\item 1056\n",
       "\\item 1057\n",
       "\\item 1058\n",
       "\\item 1059\n",
       "\\item 1060\n",
       "\\item 1061\n",
       "\\item 1062\n",
       "\\item 1063\n",
       "\\item 1064\n",
       "\\item 1065\n",
       "\\item 1066\n",
       "\\item 1067\n",
       "\\item 1068\n",
       "\\item 1069\n",
       "\\item 1070\n",
       "\\item 1071\n",
       "\\item 1072\n",
       "\\item 1073\n",
       "\\item 1074\n",
       "\\item 1075\n",
       "\\item 1076\n",
       "\\item 1077\n",
       "\\item 1078\n",
       "\\item 1079\n",
       "\\item 1080\n",
       "\\item 1081\n",
       "\\item 1082\n",
       "\\item 1083\n",
       "\\item 1084\n",
       "\\item 1085\n",
       "\\item 1086\n",
       "\\item 1087\n",
       "\\item 1088\n",
       "\\item 1089\n",
       "\\item 1090\n",
       "\\item 1091\n",
       "\\item 1092\n",
       "\\item 1093\n",
       "\\item 1094\n",
       "\\item 1095\n",
       "\\item 1096\n",
       "\\item 1097\n",
       "\\item 1098\n",
       "\\item 1099\n",
       "\\item 1100\n",
       "\\item 1101\n",
       "\\item 1102\n",
       "\\item 1103\n",
       "\\item 1104\n",
       "\\item 1105\n",
       "\\item 1106\n",
       "\\item 1107\n",
       "\\item 1108\n",
       "\\item 1109\n",
       "\\item 1110\n",
       "\\item 1111\n",
       "\\item 1112\n",
       "\\item 1113\n",
       "\\item 1114\n",
       "\\item 1115\n",
       "\\item 1116\n",
       "\\item 1117\n",
       "\\item 1118\n",
       "\\item 1119\n",
       "\\item 1120\n",
       "\\item 1121\n",
       "\\item 1122\n",
       "\\item 1123\n",
       "\\item 1124\n",
       "\\item 1125\n",
       "\\item 1126\n",
       "\\item 1127\n",
       "\\item 1128\n",
       "\\item 1129\n",
       "\\item 1130\n",
       "\\item 1131\n",
       "\\item 1132\n",
       "\\item 1133\n",
       "\\item 1134\n",
       "\\item 1135\n",
       "\\item 1136\n",
       "\\item 1137\n",
       "\\item 1138\n",
       "\\item 1139\n",
       "\\item 1140\n",
       "\\item 1141\n",
       "\\item 1142\n",
       "\\item 1143\n",
       "\\item 1144\n",
       "\\item 1145\n",
       "\\item 1146\n",
       "\\item 1147\n",
       "\\item 1148\n",
       "\\item 1149\n",
       "\\item 1150\n",
       "\\item 1151\n",
       "\\item 1152\n",
       "\\item 1153\n",
       "\\item 1154\n",
       "\\item 1155\n",
       "\\item 1156\n",
       "\\item 1157\n",
       "\\item 1158\n",
       "\\item 1159\n",
       "\\item 1160\n",
       "\\item 1161\n",
       "\\item 1162\n",
       "\\item 1163\n",
       "\\item 1164\n",
       "\\item 1165\n",
       "\\item 1166\n",
       "\\item 1167\n",
       "\\item 1168\n",
       "\\item 1169\n",
       "\\item 1170\n",
       "\\item 1171\n",
       "\\item 1172\n",
       "\\item 1173\n",
       "\\item 1174\n",
       "\\item 1175\n",
       "\\item 1176\n",
       "\\item 1177\n",
       "\\item 1178\n",
       "\\item 1179\n",
       "\\item 1180\n",
       "\\item 1181\n",
       "\\item 1182\n",
       "\\item 1183\n",
       "\\item 1184\n",
       "\\item 1185\n",
       "\\item 1186\n",
       "\\item 1187\n",
       "\\item 1188\n",
       "\\item 1189\n",
       "\\item 1190\n",
       "\\item 1191\n",
       "\\item 1192\n",
       "\\item 1193\n",
       "\\item 1194\n",
       "\\item 1195\n",
       "\\item 1196\n",
       "\\item 1197\n",
       "\\item 1198\n",
       "\\item 1199\n",
       "\\item 1200\n",
       "\\item 1201\n",
       "\\item 1202\n",
       "\\item 1203\n",
       "\\item 1204\n",
       "\\item 1205\n",
       "\\item 1206\n",
       "\\item 1207\n",
       "\\item 1208\n",
       "\\item 1209\n",
       "\\item 1553\n",
       "\\item 2595\n",
       "\\end{enumerate*}\n"
      ],
      "text/markdown": [
       "1. 1\n",
       "2. 2\n",
       "3. 3\n",
       "4. 4\n",
       "5. 5\n",
       "6. 6\n",
       "7. 7\n",
       "8. 8\n",
       "9. 9\n",
       "10. 10\n",
       "11. 11\n",
       "12. 12\n",
       "13. 13\n",
       "14. 14\n",
       "15. 15\n",
       "16. 16\n",
       "17. 17\n",
       "18. 18\n",
       "19. 19\n",
       "20. 20\n",
       "21. 21\n",
       "22. 22\n",
       "23. 23\n",
       "24. 24\n",
       "25. 25\n",
       "26. 26\n",
       "27. 27\n",
       "28. 28\n",
       "29. 29\n",
       "30. 30\n",
       "31. 31\n",
       "32. 32\n",
       "33. 33\n",
       "34. 34\n",
       "35. 35\n",
       "36. 36\n",
       "37. 37\n",
       "38. 38\n",
       "39. 39\n",
       "40. 40\n",
       "41. 41\n",
       "42. 42\n",
       "43. 43\n",
       "44. 44\n",
       "45. 45\n",
       "46. 46\n",
       "47. 47\n",
       "48. 48\n",
       "49. 49\n",
       "50. 50\n",
       "51. 51\n",
       "52. 52\n",
       "53. 53\n",
       "54. 54\n",
       "55. 55\n",
       "56. 56\n",
       "57. 57\n",
       "58. 58\n",
       "59. 59\n",
       "60. 60\n",
       "61. 61\n",
       "62. 62\n",
       "63. 63\n",
       "64. 64\n",
       "65. 65\n",
       "66. 66\n",
       "67. 67\n",
       "68. 68\n",
       "69. 69\n",
       "70. 70\n",
       "71. 71\n",
       "72. 72\n",
       "73. 73\n",
       "74. 74\n",
       "75. 75\n",
       "76. 76\n",
       "77. 77\n",
       "78. 78\n",
       "79. 79\n",
       "80. 80\n",
       "81. 81\n",
       "82. 82\n",
       "83. 83\n",
       "84. 84\n",
       "85. 85\n",
       "86. 86\n",
       "87. 87\n",
       "88. 88\n",
       "89. 89\n",
       "90. 90\n",
       "91. 91\n",
       "92. 92\n",
       "93. 93\n",
       "94. 94\n",
       "95. 95\n",
       "96. 96\n",
       "97. 97\n",
       "98. 98\n",
       "99. 99\n",
       "100. 100\n",
       "101. 101\n",
       "102. 102\n",
       "103. 103\n",
       "104. 104\n",
       "105. 105\n",
       "106. 106\n",
       "107. 107\n",
       "108. 108\n",
       "109. 109\n",
       "110. 110\n",
       "111. 111\n",
       "112. 112\n",
       "113. 113\n",
       "114. 114\n",
       "115. 115\n",
       "116. 116\n",
       "117. 117\n",
       "118. 118\n",
       "119. 119\n",
       "120. 120\n",
       "121. 121\n",
       "122. 122\n",
       "123. 123\n",
       "124. 124\n",
       "125. 125\n",
       "126. 126\n",
       "127. 127\n",
       "128. 128\n",
       "129. 129\n",
       "130. 130\n",
       "131. 131\n",
       "132. 132\n",
       "133. 133\n",
       "134. 134\n",
       "135. 135\n",
       "136. 136\n",
       "137. 137\n",
       "138. 138\n",
       "139. 139\n",
       "140. 140\n",
       "141. 141\n",
       "142. 142\n",
       "143. 143\n",
       "144. 144\n",
       "145. 145\n",
       "146. 146\n",
       "147. 147\n",
       "148. 148\n",
       "149. 149\n",
       "150. 150\n",
       "151. 151\n",
       "152. 152\n",
       "153. 153\n",
       "154. 154\n",
       "155. 155\n",
       "156. 156\n",
       "157. 157\n",
       "158. 158\n",
       "159. 159\n",
       "160. 160\n",
       "161. 161\n",
       "162. 162\n",
       "163. 163\n",
       "164. 164\n",
       "165. 165\n",
       "166. 166\n",
       "167. 167\n",
       "168. 168\n",
       "169. 169\n",
       "170. 170\n",
       "171. 171\n",
       "172. 172\n",
       "173. 173\n",
       "174. 174\n",
       "175. 175\n",
       "176. 176\n",
       "177. 177\n",
       "178. 178\n",
       "179. 179\n",
       "180. 180\n",
       "181. 181\n",
       "182. 182\n",
       "183. 183\n",
       "184. 184\n",
       "185. 185\n",
       "186. 186\n",
       "187. 187\n",
       "188. 188\n",
       "189. 189\n",
       "190. 190\n",
       "191. 191\n",
       "192. 192\n",
       "193. 193\n",
       "194. 194\n",
       "195. 195\n",
       "196. 196\n",
       "197. 197\n",
       "198. 198\n",
       "199. 199\n",
       "200. 200\n",
       "201. ...\n",
       "202. 1012\n",
       "203. 1013\n",
       "204. 1014\n",
       "205. 1015\n",
       "206. 1016\n",
       "207. 1017\n",
       "208. 1018\n",
       "209. 1019\n",
       "210. 1020\n",
       "211. 1021\n",
       "212. 1022\n",
       "213. 1023\n",
       "214. 1024\n",
       "215. 1025\n",
       "216. 1026\n",
       "217. 1027\n",
       "218. 1028\n",
       "219. 1029\n",
       "220. 1030\n",
       "221. 1031\n",
       "222. 1032\n",
       "223. 1033\n",
       "224. 1034\n",
       "225. 1035\n",
       "226. 1036\n",
       "227. 1037\n",
       "228. 1038\n",
       "229. 1039\n",
       "230. 1040\n",
       "231. 1041\n",
       "232. 1042\n",
       "233. 1043\n",
       "234. 1044\n",
       "235. 1045\n",
       "236. 1046\n",
       "237. 1047\n",
       "238. 1048\n",
       "239. 1049\n",
       "240. 1050\n",
       "241. 1051\n",
       "242. 1052\n",
       "243. 1053\n",
       "244. 1054\n",
       "245. 1055\n",
       "246. 1056\n",
       "247. 1057\n",
       "248. 1058\n",
       "249. 1059\n",
       "250. 1060\n",
       "251. 1061\n",
       "252. 1062\n",
       "253. 1063\n",
       "254. 1064\n",
       "255. 1065\n",
       "256. 1066\n",
       "257. 1067\n",
       "258. 1068\n",
       "259. 1069\n",
       "260. 1070\n",
       "261. 1071\n",
       "262. 1072\n",
       "263. 1073\n",
       "264. 1074\n",
       "265. 1075\n",
       "266. 1076\n",
       "267. 1077\n",
       "268. 1078\n",
       "269. 1079\n",
       "270. 1080\n",
       "271. 1081\n",
       "272. 1082\n",
       "273. 1083\n",
       "274. 1084\n",
       "275. 1085\n",
       "276. 1086\n",
       "277. 1087\n",
       "278. 1088\n",
       "279. 1089\n",
       "280. 1090\n",
       "281. 1091\n",
       "282. 1092\n",
       "283. 1093\n",
       "284. 1094\n",
       "285. 1095\n",
       "286. 1096\n",
       "287. 1097\n",
       "288. 1098\n",
       "289. 1099\n",
       "290. 1100\n",
       "291. 1101\n",
       "292. 1102\n",
       "293. 1103\n",
       "294. 1104\n",
       "295. 1105\n",
       "296. 1106\n",
       "297. 1107\n",
       "298. 1108\n",
       "299. 1109\n",
       "300. 1110\n",
       "301. 1111\n",
       "302. 1112\n",
       "303. 1113\n",
       "304. 1114\n",
       "305. 1115\n",
       "306. 1116\n",
       "307. 1117\n",
       "308. 1118\n",
       "309. 1119\n",
       "310. 1120\n",
       "311. 1121\n",
       "312. 1122\n",
       "313. 1123\n",
       "314. 1124\n",
       "315. 1125\n",
       "316. 1126\n",
       "317. 1127\n",
       "318. 1128\n",
       "319. 1129\n",
       "320. 1130\n",
       "321. 1131\n",
       "322. 1132\n",
       "323. 1133\n",
       "324. 1134\n",
       "325. 1135\n",
       "326. 1136\n",
       "327. 1137\n",
       "328. 1138\n",
       "329. 1139\n",
       "330. 1140\n",
       "331. 1141\n",
       "332. 1142\n",
       "333. 1143\n",
       "334. 1144\n",
       "335. 1145\n",
       "336. 1146\n",
       "337. 1147\n",
       "338. 1148\n",
       "339. 1149\n",
       "340. 1150\n",
       "341. 1151\n",
       "342. 1152\n",
       "343. 1153\n",
       "344. 1154\n",
       "345. 1155\n",
       "346. 1156\n",
       "347. 1157\n",
       "348. 1158\n",
       "349. 1159\n",
       "350. 1160\n",
       "351. 1161\n",
       "352. 1162\n",
       "353. 1163\n",
       "354. 1164\n",
       "355. 1165\n",
       "356. 1166\n",
       "357. 1167\n",
       "358. 1168\n",
       "359. 1169\n",
       "360. 1170\n",
       "361. 1171\n",
       "362. 1172\n",
       "363. 1173\n",
       "364. 1174\n",
       "365. 1175\n",
       "366. 1176\n",
       "367. 1177\n",
       "368. 1178\n",
       "369. 1179\n",
       "370. 1180\n",
       "371. 1181\n",
       "372. 1182\n",
       "373. 1183\n",
       "374. 1184\n",
       "375. 1185\n",
       "376. 1186\n",
       "377. 1187\n",
       "378. 1188\n",
       "379. 1189\n",
       "380. 1190\n",
       "381. 1191\n",
       "382. 1192\n",
       "383. 1193\n",
       "384. 1194\n",
       "385. 1195\n",
       "386. 1196\n",
       "387. 1197\n",
       "388. 1198\n",
       "389. 1199\n",
       "390. 1200\n",
       "391. 1201\n",
       "392. 1202\n",
       "393. 1203\n",
       "394. 1204\n",
       "395. 1205\n",
       "396. 1206\n",
       "397. 1207\n",
       "398. 1208\n",
       "399. 1209\n",
       "400. 1553\n",
       "401. 2595\n",
       "\n",
       "\n"
      ],
      "text/plain": [
       "   [1]    1    2    3    4    5    6    7    8    9   10   11   12   13   14\n",
       "  [15]   15   16   17   18   19   20   21   22   23   24   25   26   27   28\n",
       "  [29]   29   30   31   32   33   34   35   36   37   38   39   40   41   42\n",
       "  [43]   43   44   45   46   47   48   49   50   51   52   53   54   55   56\n",
       "  [57]   57   58   59   60   61   62   63   64   65   66   67   68   69   70\n",
       "  [71]   71   72   73   74   75   76   77   78   79   80   81   82   83   84\n",
       "  [85]   85   86   87   88   89   90   91   92   93   94   95   96   97   98\n",
       "  [99]   99  100  101  102  103  104  105  106  107  108  109  110  111  112\n",
       " [113]  113  114  115  116  117  118  119  120  121  122  123  124  125  126\n",
       " [127]  127  128  129  130  131  132  133  134  135  136  137  138  139  140\n",
       " [141]  141  142  143  144  145  146  147  148  149  150  151  152  153  154\n",
       " [155]  155  156  157  158  159  160  161  162  163  164  165  166  167  168\n",
       " [169]  169  170  171  172  173  174  175  176  177  178  179  180  181  182\n",
       " [183]  183  184  185  186  187  188  189  190  191  192  193  194  195  196\n",
       " [197]  197  198  199  200  201  202  203  204  205  206  207  208  209  210\n",
       " [211]  211  212  213  214  215  216  217  218  219  220  221  222  223  224\n",
       " [225]  225  226  227  228  229  230  231  232  233  234  235  236  237  238\n",
       " [239]  239  240  241  242  243  244  245  246  247  248  249  250  251  252\n",
       " [253]  253  254  255  256  257  258  259  260  261  262  263  264  265  266\n",
       " [267]  267  268  269  270  271  272  273  274  275  276  277  278  279  280\n",
       " [281]  281  282  283  284  285  286  287  288  289  290  291  292  293  294\n",
       " [295]  295  296  297  298  299  300  301  302  303  304  305  306  307  308\n",
       " [309]  309  310  311  312  313  314  315  316  317  318  319  320  321  322\n",
       " [323]  323  324  325  326  327  328  329  330  331  332  333  334  335  336\n",
       " [337]  337  338  339  340  341  342  343  344  345  346  347  348  349  350\n",
       " [351]  351  352  353  354  355  356  357  358  359  360  361  362  363  364\n",
       " [365]  365  366  367  368  369  370  371  372  373  374  375  376  377  378\n",
       " [379]  379  380  381  382  383  384  385  386  387  388  389  390  391  392\n",
       " [393]  393  394  395  396  397  398  399  400  401  402  403  404  405  406\n",
       " [407]  407  408  409  410  411  412  413  414  415  416  417  418  419  420\n",
       " [421]  421  422  423  424  425  426  427  428  429  430  431  432  433  434\n",
       " [435]  435  436  437  438  439  440  441  442  443  444  445  446  447  448\n",
       " [449]  449  450  451  452  453  454  455  456  457  458  459  460  461  462\n",
       " [463]  463  464  465  466  467  468  469  470  471  472  473  474  475  476\n",
       " [477]  477  478  479  480  481  482  483  484  485  486  487  488  489  490\n",
       " [491]  491  492  493  494  495  496  497  498  499  500  501  502  503  504\n",
       " [505]  505  506  507  508  509  510  511  512  513  514  515  516  517  518\n",
       " [519]  519  520  521  522  523  524  525  526  527  528  529  530  531  532\n",
       " [533]  533  534  535  536  537  538  539  540  541  542  543  544  545  546\n",
       " [547]  547  548  549  550  551  552  553  554  555  556  557  558  559  560\n",
       " [561]  561  562  563  564  565  566  567  568  569  570  571  572  573  574\n",
       " [575]  575  576  577  578  579  580  581  582  583  584  585  586  587  588\n",
       " [589]  589  590  591  592  593  594  595  596  597  598  599  600  601  602\n",
       " [603]  603  604  605  606  607  608  609  610  611  612  613  614  615  616\n",
       " [617]  617  618  619  620  621  622  623  624  625  626  627  628  629  630\n",
       " [631]  631  632  633  634  635  636  637  638  639  640  641  642  643  644\n",
       " [645]  645  646  647  648  649  650  651  652  653  654  655  656  657  658\n",
       " [659]  659  660  661  662  663  664  665  666  667  668  669  670  671  672\n",
       " [673]  673  674  675  676  677  678  679  680  681  682  683  684  685  686\n",
       " [687]  687  688  689  690  691  692  693  694  695  696  697  698  699  700\n",
       " [701]  701  702  703  704  705  706  707  708  709  710  711  712  713  714\n",
       " [715]  715  716  717  718  719  720  721  722  723  724  725  726  727  728\n",
       " [729]  729  730  731  732  733  734  735  736  737  738  739  740  741  742\n",
       " [743]  743  744  745  746  747  748  749  750  751  752  753  754  755  756\n",
       " [757]  757  758  759  760  761  762  763  764  765  766  767  768  769  770\n",
       " [771]  771  772  773  774  775  776  777  778  779  780  781  782  783  784\n",
       " [785]  785  786  787  788  789  790  791  792  793  794  795  796  797  798\n",
       " [799]  799  800  801  802  803  804  805  806  807  808  809  810  811  812\n",
       " [813]  813  814  815  816  817  818  819  820  821  822  823  824  825  826\n",
       " [827]  827  828  829  830  831  832  833  834  835  836  837  838  839  840\n",
       " [841]  841  842  843  844  845  846  847  848  849  850  851  852  853  854\n",
       " [855]  855  856  857  858  859  860  861  862  863  864  865  866  867  868\n",
       " [869]  869  870  871  872  873  874  875  876  877  878  879  880  881  882\n",
       " [883]  883  884  885  886  887  888  889  890  891  892  893  894  895  896\n",
       " [897]  897  898  899  900  901  902  903  904  905  906  907  908  909  910\n",
       " [911]  911  912  913  914  915  916  917  918  919  920  921  922  923  924\n",
       " [925]  925  926  927  928  929  930  931  932  933  934  935  936  937  938\n",
       " [939]  939  940  941  942  943  944  945  946  947  948  949  950  951  952\n",
       " [953]  953  954  955  956  957  958  959  960  961  962  963  964  965  966\n",
       " [967]  967  968  969  970  971  972  973  974  975  976  977  978  979  980\n",
       " [981]  981  982  983  984  985  986  987  988  989  990  991  992  993  994\n",
       " [995]  995  996  997  998  999 1000 1001 1002 1003 1004 1005 1006 1007 1008\n",
       "[1009] 1009 1010 1011 1012 1013 1014 1015 1016 1017 1018 1019 1020 1021 1022\n",
       "[1023] 1023 1024 1025 1026 1027 1028 1029 1030 1031 1032 1033 1034 1035 1036\n",
       "[1037] 1037 1038 1039 1040 1041 1042 1043 1044 1045 1046 1047 1048 1049 1050\n",
       "[1051] 1051 1052 1053 1054 1055 1056 1057 1058 1059 1060 1061 1062 1063 1064\n",
       "[1065] 1065 1066 1067 1068 1069 1070 1071 1072 1073 1074 1075 1076 1077 1078\n",
       "[1079] 1079 1080 1081 1082 1083 1084 1085 1086 1087 1088 1089 1090 1091 1092\n",
       "[1093] 1093 1094 1095 1096 1097 1098 1099 1100 1101 1102 1103 1104 1105 1106\n",
       "[1107] 1107 1108 1109 1110 1111 1112 1113 1114 1115 1116 1117 1118 1119 1120\n",
       "[1121] 1121 1122 1123 1124 1125 1126 1127 1128 1129 1130 1131 1132 1133 1134\n",
       "[1135] 1135 1136 1137 1138 1139 1140 1141 1142 1143 1144 1145 1146 1147 1148\n",
       "[1149] 1149 1150 1151 1152 1153 1154 1155 1156 1157 1158 1159 1160 1161 1162\n",
       "[1163] 1163 1164 1165 1166 1167 1168 1169 1170 1171 1172 1173 1174 1175 1176\n",
       "[1177] 1177 1178 1179 1180 1181 1182 1183 1184 1185 1186 1187 1188 1189 1190\n",
       "[1191] 1191 1192 1193 1194 1195 1196 1197 1198 1199 1200 1201 1202 1203 1204\n",
       "[1205] 1205 1206 1207 1208 1209 1553 2595"
      ]
     },
     "metadata": {},
     "output_type": "display_data"
    }
   ],
   "source": [
    "which(NDAQ.df$IXIC.V == 0)"
   ]
  },
  {
   "cell_type": "code",
   "execution_count": 84,
   "metadata": {},
   "outputs": [
    {
     "data": {
      "text/html": [
       "<time datetime=\"1984-10-11\">1984-10-11</time>"
      ],
      "text/latex": [
       "1984-10-11"
      ],
      "text/markdown": [
       "1984-10-11"
      ],
      "text/plain": [
       "[1] \"1984-10-11\""
      ]
     },
     "metadata": {},
     "output_type": "display_data"
    }
   ],
   "source": [
    "NDAQ.df$Index[1210]"
   ]
  },
  {
   "cell_type": "code",
   "execution_count": 85,
   "metadata": {},
   "outputs": [
    {
     "data": {
      "text/html": [
       "9834"
      ],
      "text/latex": [
       "9834"
      ],
      "text/markdown": [
       "9834"
      ],
      "text/plain": [
       "[1] 9834"
      ]
     },
     "metadata": {},
     "output_type": "display_data"
    }
   ],
   "source": [
    "nrow(NDAQ.df)"
   ]
  },
  {
   "cell_type": "markdown",
   "metadata": {},
   "source": [
    "We can see that the first 1209 consecutive observations are all zero, we can asssume that the 1210th observation is where the data for individual features began to be recorded - the other days it is safe to assume that the volatility measure equaling zero coincidental. We will subset our data set to begin on the 1210th observation, and continue the analysis like we did before."
   ]
  },
  {
   "cell_type": "code",
   "execution_count": 86,
   "metadata": {},
   "outputs": [],
   "source": [
    "NDAQ.df.sub <- NDAQ.df[1210:9834,]"
   ]
  },
  {
   "cell_type": "code",
   "execution_count": 89,
   "metadata": {},
   "outputs": [],
   "source": [
    "NDAQ.xts <- xts(NDAQ.df.sub$IXIC.V, NDAQ.df.sub$Index)"
   ]
  },
  {
   "cell_type": "code",
   "execution_count": 90,
   "metadata": {},
   "outputs": [],
   "source": [
    "NDAQ.xts <- apply.monthly(NDAQ.xts, mean)\n",
    "names(NDAQ.xts)[1] <- \"NDAQ.MIDPPCA\""
   ]
  },
  {
   "cell_type": "code",
   "execution_count": 91,
   "metadata": {},
   "outputs": [
    {
     "data": {
      "text/plain": [
       "           NDAQ.MIDPPCA\n",
       "1984-10-31  0.003164435\n",
       "1984-11-30  0.005337882\n",
       "1984-12-31  0.006691112\n",
       "1985-01-31  0.004319085\n",
       "1985-02-28  0.003521892\n",
       "1985-03-29  0.005248618"
      ]
     },
     "metadata": {},
     "output_type": "display_data"
    }
   ],
   "source": [
    "head(NDAQ.xts)"
   ]
  },
  {
   "cell_type": "code",
   "execution_count": 92,
   "metadata": {},
   "outputs": [
    {
     "data": {
      "text/html": [
       "411"
      ],
      "text/latex": [
       "411"
      ],
      "text/markdown": [
       "411"
      ],
      "text/plain": [
       "[1] 411"
      ]
     },
     "metadata": {},
     "output_type": "display_data"
    }
   ],
   "source": [
    "nrow(NDAQ.xts)"
   ]
  },
  {
   "cell_type": "markdown",
   "metadata": {},
   "source": [
    "To simplify the time periods we will omit the 1984 observations of the converted monthly MIDPPCA variable."
   ]
  },
  {
   "cell_type": "code",
   "execution_count": 93,
   "metadata": {},
   "outputs": [],
   "source": [
    "NDAQ.xts <- NDAQ.xts[4:411]"
   ]
  },
  {
   "cell_type": "code",
   "execution_count": 94,
   "metadata": {},
   "outputs": [
    {
     "data": {
      "text/plain": [
       "           NDAQ.MIDPPCA\n",
       "1985-01-31  0.004319085\n",
       "1985-02-28  0.003521892\n",
       "1985-03-29  0.005248618\n",
       "1985-04-30  0.004752145\n",
       "1985-05-31  0.004678505\n",
       "1985-06-28  0.004700948"
      ]
     },
     "metadata": {},
     "output_type": "display_data"
    }
   ],
   "source": [
    "head(NDAQ.xts)"
   ]
  },
  {
   "cell_type": "markdown",
   "metadata": {},
   "source": [
    "In appending the % change GDP variable we will drop the first five years, or 60 months, to line up with our subsetted data starting in Janurary 1985."
   ]
  },
  {
   "cell_type": "code",
   "execution_count": 95,
   "metadata": {},
   "outputs": [],
   "source": [
    "NDAQ.xts$GDP <- xts(gdp.pct.mo[61:468], index[61:468])"
   ]
  },
  {
   "cell_type": "code",
   "execution_count": 96,
   "metadata": {},
   "outputs": [
    {
     "data": {
      "text/plain": [
       "           NDAQ.MIDPPCA      GDP\n",
       "1985-01-31  0.004319085 1.929403\n",
       "1985-02-28  0.003521892 1.929403\n",
       "1985-03-29  0.005248618 1.929403\n",
       "1985-04-30  0.004752145 1.506885\n",
       "1985-05-31  0.004678505 1.506885\n",
       "1985-06-28  0.004700948 1.506885"
      ]
     },
     "metadata": {},
     "output_type": "display_data"
    }
   ],
   "source": [
    "head(NDAQ.xts)"
   ]
  },
  {
   "cell_type": "markdown",
   "metadata": {},
   "source": [
    "Examining the tail end of our data set we see that we have generated NA values just as we did with the Dow Jones MIDPPCA variable. We will drop these observations as well."
   ]
  },
  {
   "cell_type": "code",
   "execution_count": 97,
   "metadata": {},
   "outputs": [
    {
     "data": {
      "text/plain": [
       "           NDAQ.MIDPPCA       GDP\n",
       "2018-08-31  0.007539192 0.9163214\n",
       "2018-09-28  0.009414664 0.9163214\n",
       "2018-10-31  0.022307585 0.7992883\n",
       "2018-11-30  0.017780580 0.7992883\n",
       "2018-12-28  0.028928104        NA\n",
       "2018-12-31           NA 0.7992883"
      ]
     },
     "metadata": {},
     "output_type": "display_data"
    }
   ],
   "source": [
    "tail(NDAQ.xts)"
   ]
  },
  {
   "cell_type": "code",
   "execution_count": 98,
   "metadata": {},
   "outputs": [],
   "source": [
    "NDAQ.xts <- na.omit(NDAQ.xts)"
   ]
  },
  {
   "cell_type": "code",
   "execution_count": 99,
   "metadata": {},
   "outputs": [
    {
     "data": {
      "text/plain": [
       "           NDAQ.MIDPPCA       GDP\n",
       "2018-06-29  0.009838547 1.5104522\n",
       "2018-07-31  0.010546254 0.9163214\n",
       "2018-08-31  0.007539192 0.9163214\n",
       "2018-09-28  0.009414664 0.9163214\n",
       "2018-10-31  0.022307585 0.7992883\n",
       "2018-11-30  0.017780580 0.7992883"
      ]
     },
     "metadata": {},
     "output_type": "display_data"
    }
   ],
   "source": [
    "tail(NDAQ.xts)"
   ]
  },
  {
   "cell_type": "markdown",
   "metadata": {},
   "source": [
    "Being careful to line up our start/stop dates for both periods we run the algorithm just as we did before."
   ]
  },
  {
   "cell_type": "code",
   "execution_count": 100,
   "metadata": {},
   "outputs": [],
   "source": [
    "pre.period.NDAQ <- as.POSIXct(c('1985-01-31','1999-12-31'))\n",
    "post.period.NDAQ <- as.POSIXct(c('2000-01-31', '2018-11-30'))"
   ]
  },
  {
   "cell_type": "code",
   "execution_count": 101,
   "metadata": {},
   "outputs": [
    {
     "data": {
      "image/png": "[encoded data removed]",
      "text/plain": [
       "plot without title"
      ]
     },
     "metadata": {
      "image/png": {
       "height": 480,
       "width": 720
      },
      "text/plain": {
       "height": 480,
       "width": 720
      }
     },
     "output_type": "display_data"
    }
   ],
   "source": [
    "model.NDAQ <- CausalImpact(NDAQ.xts, pre.period.NDAQ, post.period.NDAQ)\n",
    "plot(model.NDAQ) + theme_gray() + labs(X=\"Decade\", y=\"% Change\")\n",
    "options(repr.plot.width=12, repr.plot.height=8)"
   ]
  },
  {
   "cell_type": "code",
   "execution_count": 102,
   "metadata": {},
   "outputs": [
    {
     "name": "stdout",
     "output_type": "stream",
     "text": [
      "Posterior inference {CausalImpact}\n",
      "\n",
      "                         Average             Cumulative       \n",
      "Actual                   0.016               3.650            \n",
      "Prediction (s.d.)        0.02 (0.0029)       4.44 (0.6567)    \n",
      "95% CI                   [0.015, 0.026]      [3.306, 5.805]   \n",
      "                                                              \n",
      "Absolute effect (s.d.)   -0.0035 (0.0029)    -0.7928 (0.6567) \n",
      "95% CI                   [-0.0095, 0.0015]   [-2.1548, 0.3436]\n",
      "                                                              \n",
      "Relative effect (s.d.)   -18% (15%)          -18% (15%)       \n",
      "95% CI                   [-49%, 7.7%]        [-49%, 7.7%]     \n",
      "\n",
      "Posterior tail-area probability p:   0.10648\n",
      "Posterior prob. of a causal effect:  89%\n",
      "\n",
      "For more details, type: summary(impact, \"report\")\n",
      "\n"
     ]
    }
   ],
   "source": [
    "summary(model.NDAQ)"
   ]
  },
  {
   "cell_type": "code",
   "execution_count": 103,
   "metadata": {},
   "outputs": [
    {
     "name": "stdout",
     "output_type": "stream",
     "text": [
      "Analysis report {CausalImpact}\n",
      "\n",
      "\n",
      "During the post-intervention period, the response variable had an average value of approx. 0.016. In the absence of an intervention, we would have expected an average response of 0.020. The 95% interval of this counterfactual prediction is [0.015, 0.026]. Subtracting this prediction from the observed response yields an estimate of the causal effect the intervention had on the response variable. This effect is -0.0035 with a 95% interval of [-0.0095, 0.0015]. For a discussion of the significance of this effect, see below.\n",
      "\n",
      "Summing up the individual data points during the post-intervention period (which can only sometimes be meaningfully interpreted), the response variable had an overall value of 3.65. Had the intervention not taken place, we would have expected a sum of 4.44. The 95% interval of this prediction is [3.31, 5.80].\n",
      "\n",
      "The above results are given in terms of absolute numbers. In relative terms, the response variable showed a decrease of -18%. The 95% interval of this percentage is [-49%, +8%].\n",
      "\n",
      "This means that, although it may look as though the intervention has exerted a negative effect on the response variable when considering the intervention period as a whole, this effect is not statistically significant, and so cannot be meaningfully interpreted. The apparent effect could be the result of random fluctuations that are unrelated to the intervention. This is often the case when the intervention period is very long and includes much of the time when the effect has already worn off. It can also be the case when the intervention period is too short to distinguish the signal from the noise. Finally, failing to find a significant effect can happen when there are not enough control variables or when these variables do not correlate well with the response variable during the learning period.\n",
      "\n",
      "The probability of obtaining this effect by chance is p = 0.106. This means the effect may be spurious and would generally not be considered statistically significant. \n"
     ]
    }
   ],
   "source": [
    "summary(model.NDAQ, \"report\")"
   ]
  },
  {
   "cell_type": "markdown",
   "metadata": {},
   "source": []
  }
 ],
 "metadata": {
  "kernelspec": {
   "display_name": "R",
   "language": "R",
   "name": "ir"
  },
  "language_info": {
   "codemirror_mode": "r",
   "file_extension": ".r",
   "mimetype": "text/x-r-source",
   "name": "R",
   "pygments_lexer": "r",
   "version": "3.6.1"
  }
 },
 "nbformat": 4,
 "nbformat_minor": 4
}
